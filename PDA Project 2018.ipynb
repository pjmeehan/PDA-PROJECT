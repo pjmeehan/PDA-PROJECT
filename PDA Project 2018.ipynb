{
 "cells": [
  {
   "cell_type": "markdown",
   "metadata": {},
   "source": [
    "# Programming for Data Analysis Project 2018"
   ]
  },
  {
   "cell_type": "markdown",
   "metadata": {},
   "source": [
    "### Project Problem Statement :\n",
    "1. Choose a real world phenomenon that can be measured and for which you could collect at least one hundred data points across at least four different variables.\n",
    "2. Investigate the types of variables involved, their likely distributions, and their relationships with each other.\n",
    "3. Synthesise/simulte a data set as closely matching their properties as possible.\n",
    "4. Detail your research and implement the simulation in a Jupyter mnotebook - the data itself can simply be displayed in an output cell within the notebook."
   ]
  },
  {
   "cell_type": "markdown",
   "metadata": {},
   "source": [
    "### Real World Phenomenon\n",
    "***"
   ]
  },
  {
   "cell_type": "markdown",
   "metadata": {},
   "source": [
    "I want to choose something that I am interested in so it will contain my interest throughout the whole project. Initially I'm thinking of my favourite National Hockey League team, the New York Rangers. The Rangers are currently going through a rebuild and I was wondering what are some ascpects of a team that wins more than others and what are some variables that lead them to their winning ways. I would like to see the results for a couple of reasons, 1. to see if the Rangers are heading in the right direction or might they need something(new player, new offensive strategy, new defensive strategy, better goaltending etc) to help them get there and 2. to see if results could be used as a predictive tool. Ie. If the Rangers score at least 3 goals and have a save percentage higher than 90%, what are their chances of winning?\n",
    "For my variables, I want to focus on wins. What other variables will I need to look at that are related to winning. I suppose there there are many variables just as in other sport.\n"
   ]
  },
  {
   "cell_type": "markdown",
   "metadata": {},
   "source": [
    "### Analytics in Hockey\n",
    "***\n",
    "Traditional statistics have always played a significant part in the analysis of teams and players in the NHL. Statistical data influences decisions made by hockey executives regarding draft picks, trades, and contract negotiations. Coaches are dependent upon this information to determine game day line-ups, line matchups, and situational decisions during a game. (1)\n",
    "\n",
    "Over the last 10 years, the incorporation of advanced hockey analytics in hockey operations decision-making has taken the league by storm. (2)\n",
    "\n",
    "Data analytics in hockey is becoming ever more crucial for teams that want a cutting edge or step above. One such team utilizing these tools are the Tampa Bay Lighning of the National Hockey League. The man helping the Tampa Bay Lightning with the analytics is Michael Peterson, Director of Hockey Analytics.\n",
    "\n",
    "His focus is on the development of advanced statistical metrics that can tell the true value of a player and his production rather than traditional stats like goals, assists, and hits, which can be subjective and ultimately deceptive in judging a player's effectiveness.(3)\n",
    "\n",
    "The method seems to be working.The Tampa Bay Lightning have had a great run over the last few years and it would have been better save a few crucial injuries. A playoff appearance in 2014. A trip to the Stanley Cup final in 2015. A return to the Eastern Conference final in 2016. A near-miss of the postseason in 2017, another return to the Conference finals in 2018 and currently leading the league in wins this season. (4)\n",
    "\n",
    "Hockey is adapting to the times. Not so much as forgoing traditional methods of scouting, watching video and reading box scores,\n",
    "but understanding that analytics has it's part in aiding a team with crucial information to make better decisions on and off the ice. It could mean anything from finding a \"better way to enter the zone\" to helping pick the best player that fits their needs in the draft.\n",
    "\n",
    "A great quote on ignoring analytics in sports comes from Arik Parnass from the Earl Jessiman article \"Traditional Statistics vs. Advanced Analytics: Making Better Business Decisions\" on thehockeywriters.com website. \" Dismissing analytics means settling for an old method of evaluation and using an inefficient business practice.” (5)\n",
    "\n",
    "\n",
    "\n"
   ]
  },
  {
   "cell_type": "markdown",
   "metadata": {},
   "source": [
    "## Variables\n",
    "***\n",
    "There are many variables in hockey that can be looked at as contributing to whether a team wins or losses a certain game. \n",
    "One such research paper, \"An Analysis of Factors Contributing to Wins in the National Hockey League\" written by Joe Roith and Rhonda Magel, looked at 60 variables to estimate the probability of a team's chances of winning. (6) They determined that the most important variables were goals scored, goals against and takeaways. (7)\n",
    "\n",
    "When I first started this project, I had very similar thoughts to those of Roith and Magel. I wanted to see what variables would most likely determine if a team in the NHL wins a game. Similarly to their research, I wanted to use goals scored and goals against. Unlike their research, I was thinking of using goalies save percentage while they used takeaways.\n",
    "\n",
    "After reading articles and scouring the internet for research (that's how I came upon Roith and Magel's paper), I came across a variable I was not entirely familiar with. It's called the Corsi (statistic). It's defined as an advanced statistic used in the National Hockey League to measure shot attempt differential while at even strength play. This includes shots on goal, missed shots on goal, and shots that were blocked minus the same shot attempts against your own team. (8)\n",
    "\n",
    "I decided that I wanted to use this variable along with goals for and goals against to go along with my most important variable which was whether a team wins or loses.\n",
    "\n",
    "Let's take a look at the variables I will use :\n",
    "\n",
    "*Wins/Losses* - This is simple. At the end of the game (regulation or overtime) did the team win or lose.\n",
    "Wins is the variable I'm most interested in. Obviuosly there are so many factors that determine if a team has a shot at winning including injuries, home or away, is it the second game of a back to back, did they arrive late from poor travel conditions to man, many more others.The other three variables I chose to be the best for a small sample. Hopefully these variables will allow me to see if they have an impact on whether a win is likely.\n",
    "\n",
    "*Goals for* - the total number of goals the team scored during the game.\n",
    "Goals for also has many factors, such as injuries, your team was down a man a few times from penalties, fatigue or great goal tending from the other team amongst many others. At the end of the day if you don't score more goals than your opponent, you lose.\n",
    "\n",
    "*Goals against* - the total number of goals a team gives up during the game.\n",
    "The same factors that affect \"goals for\" also affect goals against. Was the team killing penalties all night and did not get to produce much offense? Was your goal tending bad? Or was puck possession not good enough?\n",
    "\n",
    "*Corsi* - Is the total shots taken, which includes shots on goal, shots missed and shots blocked, minus the total shots given up. It can be expressed as a whole number or a percentage. It is also used to approximated the time of possession, which is the amount of time a team controls the puck.\n",
    "\n",
    "My data set is based on the past 111 games for the Tampa Bay Lightning. I've included the dataset in my jupyter notebook only for the purpose of determining the distributions of my variables.\n"
   ]
  },
  {
   "cell_type": "markdown",
   "metadata": {},
   "source": [
    "## Determining the Distributions of my Variables\n",
    "***"
   ]
  },
  {
   "cell_type": "code",
   "execution_count": 285,
   "metadata": {},
   "outputs": [],
   "source": [
    "### I will import the libraries I may use for the code and the histograms I will use to help determine the distribution types \n",
    "### for my variables.\n",
    "\n",
    "### Then, I will run the descriptive statistics of my data set. Note : there is no histogram  for Win/Lose (W/L)\n",
    "### because it is a binomial distribution by definition. It only has two possible outcomes. \n",
    "\n",
    "### Next, I will create histograms for each of my variables."
   ]
  },
  {
   "cell_type": "code",
   "execution_count": 379,
   "metadata": {},
   "outputs": [],
   "source": [
    "import numpy as np\n",
    "import matplotlib.pyplot as plt\n",
    "import pandas as pd\n",
    "import seaborn as sns\n",
    "import csv"
   ]
  },
  {
   "cell_type": "code",
   "execution_count": 380,
   "metadata": {},
   "outputs": [],
   "source": [
    "a = open(\"realdata.csv\")"
   ]
  },
  {
   "cell_type": "code",
   "execution_count": 381,
   "metadata": {},
   "outputs": [
    {
     "data": {
      "text/html": [
       "<div>\n",
       "<style scoped>\n",
       "    .dataframe tbody tr th:only-of-type {\n",
       "        vertical-align: middle;\n",
       "    }\n",
       "\n",
       "    .dataframe tbody tr th {\n",
       "        vertical-align: top;\n",
       "    }\n",
       "\n",
       "    .dataframe thead th {\n",
       "        text-align: right;\n",
       "    }\n",
       "</style>\n",
       "<table border=\"1\" class=\"dataframe\">\n",
       "  <thead>\n",
       "    <tr style=\"text-align: right;\">\n",
       "      <th></th>\n",
       "      <th>GP</th>\n",
       "      <th>W/L</th>\n",
       "      <th>GF</th>\n",
       "      <th>GA</th>\n",
       "      <th>CF</th>\n",
       "      <th>CA</th>\n",
       "      <th>CF%</th>\n",
       "    </tr>\n",
       "  </thead>\n",
       "  <tbody>\n",
       "    <tr>\n",
       "      <th>0</th>\n",
       "      <td>1</td>\n",
       "      <td>W</td>\n",
       "      <td>5</td>\n",
       "      <td>3</td>\n",
       "      <td>34</td>\n",
       "      <td>55</td>\n",
       "      <td>38.2</td>\n",
       "    </tr>\n",
       "    <tr>\n",
       "      <th>1</th>\n",
       "      <td>2</td>\n",
       "      <td>L</td>\n",
       "      <td>4</td>\n",
       "      <td>5</td>\n",
       "      <td>32</td>\n",
       "      <td>56</td>\n",
       "      <td>36.4</td>\n",
       "    </tr>\n",
       "    <tr>\n",
       "      <th>2</th>\n",
       "      <td>3</td>\n",
       "      <td>W</td>\n",
       "      <td>4</td>\n",
       "      <td>3</td>\n",
       "      <td>60</td>\n",
       "      <td>34</td>\n",
       "      <td>63.8</td>\n",
       "    </tr>\n",
       "    <tr>\n",
       "      <th>3</th>\n",
       "      <td>4</td>\n",
       "      <td>W</td>\n",
       "      <td>5</td>\n",
       "      <td>4</td>\n",
       "      <td>50</td>\n",
       "      <td>45</td>\n",
       "      <td>52.6</td>\n",
       "    </tr>\n",
       "    <tr>\n",
       "      <th>4</th>\n",
       "      <td>5</td>\n",
       "      <td>W</td>\n",
       "      <td>2</td>\n",
       "      <td>1</td>\n",
       "      <td>58</td>\n",
       "      <td>38</td>\n",
       "      <td>60.4</td>\n",
       "    </tr>\n",
       "  </tbody>\n",
       "</table>\n",
       "</div>"
      ],
      "text/plain": [
       "   GP W/L  GF  GA  CF  CA   CF%\n",
       "0   1   W   5   3  34  55  38.2\n",
       "1   2   L   4   5  32  56  36.4\n",
       "2   3   W   4   3  60  34  63.8\n",
       "3   4   W   5   4  50  45  52.6\n",
       "4   5   W   2   1  58  38  60.4"
      ]
     },
     "execution_count": 381,
     "metadata": {},
     "output_type": "execute_result"
    }
   ],
   "source": [
    "csv_a=csv.reader(a)\n",
    "df = pd.read_csv(\"realdata.csv\")\n",
    "df.head()"
   ]
  },
  {
   "cell_type": "code",
   "execution_count": 382,
   "metadata": {},
   "outputs": [
    {
     "data": {
      "text/html": [
       "<div>\n",
       "<style scoped>\n",
       "    .dataframe tbody tr th:only-of-type {\n",
       "        vertical-align: middle;\n",
       "    }\n",
       "\n",
       "    .dataframe tbody tr th {\n",
       "        vertical-align: top;\n",
       "    }\n",
       "\n",
       "    .dataframe thead th {\n",
       "        text-align: right;\n",
       "    }\n",
       "</style>\n",
       "<table border=\"1\" class=\"dataframe\">\n",
       "  <thead>\n",
       "    <tr style=\"text-align: right;\">\n",
       "      <th></th>\n",
       "      <th>W/L</th>\n",
       "    </tr>\n",
       "  </thead>\n",
       "  <tbody>\n",
       "    <tr>\n",
       "      <th>count</th>\n",
       "      <td>111</td>\n",
       "    </tr>\n",
       "    <tr>\n",
       "      <th>unique</th>\n",
       "      <td>2</td>\n",
       "    </tr>\n",
       "    <tr>\n",
       "      <th>top</th>\n",
       "      <td>W</td>\n",
       "    </tr>\n",
       "    <tr>\n",
       "      <th>freq</th>\n",
       "      <td>75</td>\n",
       "    </tr>\n",
       "  </tbody>\n",
       "</table>\n",
       "</div>"
      ],
      "text/plain": [
       "        W/L\n",
       "count   111\n",
       "unique    2\n",
       "top       W\n",
       "freq     75"
      ]
     },
     "execution_count": 382,
     "metadata": {},
     "output_type": "execute_result"
    }
   ],
   "source": [
    "df.describe(include=[np.object])"
   ]
  },
  {
   "cell_type": "markdown",
   "metadata": {},
   "source": [
    "From the above desriptive statistic, we know that W has=d a frequency of 75. This means that out of the 111 games, Tampa Bay won 75 times. This is a winning percentage of 67.567567.I will round it to 67.5%."
   ]
  },
  {
   "cell_type": "code",
   "execution_count": 383,
   "metadata": {},
   "outputs": [
    {
     "data": {
      "text/html": [
       "<div>\n",
       "<style scoped>\n",
       "    .dataframe tbody tr th:only-of-type {\n",
       "        vertical-align: middle;\n",
       "    }\n",
       "\n",
       "    .dataframe tbody tr th {\n",
       "        vertical-align: top;\n",
       "    }\n",
       "\n",
       "    .dataframe thead th {\n",
       "        text-align: right;\n",
       "    }\n",
       "</style>\n",
       "<table border=\"1\" class=\"dataframe\">\n",
       "  <thead>\n",
       "    <tr style=\"text-align: right;\">\n",
       "      <th></th>\n",
       "      <th>GP</th>\n",
       "      <th>GF</th>\n",
       "      <th>GA</th>\n",
       "      <th>CF</th>\n",
       "      <th>CA</th>\n",
       "      <th>CF%</th>\n",
       "    </tr>\n",
       "  </thead>\n",
       "  <tbody>\n",
       "    <tr>\n",
       "      <th>count</th>\n",
       "      <td>111.000000</td>\n",
       "      <td>111.000000</td>\n",
       "      <td>111.000000</td>\n",
       "      <td>111.000000</td>\n",
       "      <td>111.000000</td>\n",
       "      <td>111.000000</td>\n",
       "    </tr>\n",
       "    <tr>\n",
       "      <th>mean</th>\n",
       "      <td>56.000000</td>\n",
       "      <td>3.693694</td>\n",
       "      <td>2.891892</td>\n",
       "      <td>49.855856</td>\n",
       "      <td>45.909910</td>\n",
       "      <td>52.117117</td>\n",
       "    </tr>\n",
       "    <tr>\n",
       "      <th>std</th>\n",
       "      <td>32.186954</td>\n",
       "      <td>1.877100</td>\n",
       "      <td>1.691429</td>\n",
       "      <td>9.589622</td>\n",
       "      <td>9.749172</td>\n",
       "      <td>7.629201</td>\n",
       "    </tr>\n",
       "    <tr>\n",
       "      <th>min</th>\n",
       "      <td>1.000000</td>\n",
       "      <td>0.000000</td>\n",
       "      <td>0.000000</td>\n",
       "      <td>27.000000</td>\n",
       "      <td>18.000000</td>\n",
       "      <td>36.400000</td>\n",
       "    </tr>\n",
       "    <tr>\n",
       "      <th>25%</th>\n",
       "      <td>28.500000</td>\n",
       "      <td>2.000000</td>\n",
       "      <td>2.000000</td>\n",
       "      <td>44.000000</td>\n",
       "      <td>38.000000</td>\n",
       "      <td>47.050000</td>\n",
       "    </tr>\n",
       "    <tr>\n",
       "      <th>50%</th>\n",
       "      <td>56.000000</td>\n",
       "      <td>4.000000</td>\n",
       "      <td>3.000000</td>\n",
       "      <td>49.000000</td>\n",
       "      <td>46.000000</td>\n",
       "      <td>52.500000</td>\n",
       "    </tr>\n",
       "    <tr>\n",
       "      <th>75%</th>\n",
       "      <td>83.500000</td>\n",
       "      <td>5.000000</td>\n",
       "      <td>4.000000</td>\n",
       "      <td>56.000000</td>\n",
       "      <td>52.000000</td>\n",
       "      <td>57.450000</td>\n",
       "    </tr>\n",
       "    <tr>\n",
       "      <th>max</th>\n",
       "      <td>111.000000</td>\n",
       "      <td>8.000000</td>\n",
       "      <td>7.000000</td>\n",
       "      <td>76.000000</td>\n",
       "      <td>70.000000</td>\n",
       "      <td>74.300000</td>\n",
       "    </tr>\n",
       "  </tbody>\n",
       "</table>\n",
       "</div>"
      ],
      "text/plain": [
       "               GP          GF          GA          CF          CA         CF%\n",
       "count  111.000000  111.000000  111.000000  111.000000  111.000000  111.000000\n",
       "mean    56.000000    3.693694    2.891892   49.855856   45.909910   52.117117\n",
       "std     32.186954    1.877100    1.691429    9.589622    9.749172    7.629201\n",
       "min      1.000000    0.000000    0.000000   27.000000   18.000000   36.400000\n",
       "25%     28.500000    2.000000    2.000000   44.000000   38.000000   47.050000\n",
       "50%     56.000000    4.000000    3.000000   49.000000   46.000000   52.500000\n",
       "75%     83.500000    5.000000    4.000000   56.000000   52.000000   57.450000\n",
       "max    111.000000    8.000000    7.000000   76.000000   70.000000   74.300000"
      ]
     },
     "execution_count": 383,
     "metadata": {},
     "output_type": "execute_result"
    }
   ],
   "source": [
    "df.describe()"
   ]
  },
  {
   "cell_type": "code",
   "execution_count": null,
   "metadata": {},
   "outputs": [],
   "source": []
  },
  {
   "cell_type": "code",
   "execution_count": null,
   "metadata": {},
   "outputs": [],
   "source": []
  },
  {
   "cell_type": "code",
   "execution_count": 384,
   "metadata": {},
   "outputs": [],
   "source": [
    "### histogram for Goals For (GF)\n",
    "\n",
    "### Note : the error maessage is common and a \"patch\" is supposed to be put through to correct. (9)"
   ]
  },
  {
   "cell_type": "code",
   "execution_count": 385,
   "metadata": {},
   "outputs": [
    {
     "name": "stderr",
     "output_type": "stream",
     "text": [
      "C:\\Users\\patri\\Anaconda3\\lib\\site-packages\\matplotlib\\axes\\_axes.py:6462: UserWarning: The 'normed' kwarg is deprecated, and has been replaced by the 'density' kwarg.\n",
      "  warnings.warn(\"The 'normed' kwarg is deprecated, and has been \"\n"
     ]
    },
    {
     "data": {
      "text/plain": [
       "<matplotlib.axes._subplots.AxesSubplot at 0x1f194f61550>"
      ]
     },
     "execution_count": 385,
     "metadata": {},
     "output_type": "execute_result"
    },
    {
     "data": {
      "image/png": "[encoded data removed]",
      "text/plain": [
       "<Figure size 432x288 with 1 Axes>"
      ]
     },
     "metadata": {},
     "output_type": "display_data"
    }
   ],
   "source": [
    "sns.distplot(df[\"GF\"])"
   ]
  },
  {
   "cell_type": "code",
   "execution_count": 386,
   "metadata": {},
   "outputs": [],
   "source": [
    "### histogram for Goals Against (GA)"
   ]
  },
  {
   "cell_type": "code",
   "execution_count": 387,
   "metadata": {},
   "outputs": [
    {
     "name": "stderr",
     "output_type": "stream",
     "text": [
      "C:\\Users\\patri\\Anaconda3\\lib\\site-packages\\matplotlib\\axes\\_axes.py:6462: UserWarning: The 'normed' kwarg is deprecated, and has been replaced by the 'density' kwarg.\n",
      "  warnings.warn(\"The 'normed' kwarg is deprecated, and has been \"\n"
     ]
    },
    {
     "data": {
      "text/plain": [
       "<matplotlib.axes._subplots.AxesSubplot at 0x1f194fa3a90>"
      ]
     },
     "execution_count": 387,
     "metadata": {},
     "output_type": "execute_result"
    },
    {
     "data": {
      "image/png": "[encoded data removed]",
      "text/plain": [
       "<Figure size 432x288 with 1 Axes>"
      ]
     },
     "metadata": {},
     "output_type": "display_data"
    }
   ],
   "source": [
    "sns.distplot(df[\"GA\"])"
   ]
  },
  {
   "cell_type": "code",
   "execution_count": 388,
   "metadata": {},
   "outputs": [],
   "source": [
    "### histogram for Goals Against (CF%)"
   ]
  },
  {
   "cell_type": "code",
   "execution_count": 389,
   "metadata": {},
   "outputs": [
    {
     "name": "stderr",
     "output_type": "stream",
     "text": [
      "C:\\Users\\patri\\Anaconda3\\lib\\site-packages\\matplotlib\\axes\\_axes.py:6462: UserWarning: The 'normed' kwarg is deprecated, and has been replaced by the 'density' kwarg.\n",
      "  warnings.warn(\"The 'normed' kwarg is deprecated, and has been \"\n"
     ]
    },
    {
     "data": {
      "text/plain": [
       "<matplotlib.axes._subplots.AxesSubplot at 0x1f19502d2b0>"
      ]
     },
     "execution_count": 389,
     "metadata": {},
     "output_type": "execute_result"
    },
    {
     "data": {
      "image/png": "[encoded data removed]",
      "text/plain": [
       "<Figure size 432x288 with 1 Axes>"
      ]
     },
     "metadata": {},
     "output_type": "display_data"
    }
   ],
   "source": [
    "sns.distplot(df[\"CF%\"])"
   ]
  },
  {
   "cell_type": "markdown",
   "metadata": {},
   "source": [
    "Since my first variable only has two outcomes, win or lose, it is by definition a binomial distribution. My other three variables appear to follow a normal distribution as shown in the histograms above."
   ]
  },
  {
   "cell_type": "markdown",
   "metadata": {},
   "source": [
    "# Algorithm\n",
    "***"
   ]
  },
  {
   "cell_type": "code",
   "execution_count": null,
   "metadata": {},
   "outputs": [],
   "source": []
  },
  {
   "cell_type": "code",
   "execution_count": 390,
   "metadata": {},
   "outputs": [],
   "source": [
    "### I will use the numpy.random.randint function for GF and GA because it follows a discrete uniform distribution for integers.\n",
    "### I will use the numpy.random.uniform function for CF% because it follows a uniform distribution for floats.\n"
   ]
  },
  {
   "cell_type": "code",
   "execution_count": 391,
   "metadata": {},
   "outputs": [],
   "source": [
    "def win_loss(p=.675):\n",
    "   return 'Win' if random.random() > p else 'Loss'"
   ]
  },
  {
   "cell_type": "code",
   "execution_count": 392,
   "metadata": {},
   "outputs": [],
   "source": [
    "GF = np.random.randint(0, 8, 100)"
   ]
  },
  {
   "cell_type": "code",
   "execution_count": 393,
   "metadata": {},
   "outputs": [],
   "source": [
    "GA = np.random.randint(0, 7, 100)"
   ]
  },
  {
   "cell_type": "code",
   "execution_count": 394,
   "metadata": {},
   "outputs": [],
   "source": [
    "CF = np.random.uniform(36.3,74.4,100)"
   ]
  },
  {
   "cell_type": "code",
   "execution_count": 395,
   "metadata": {},
   "outputs": [],
   "source": [
    "myalgo = {\"WL\":WL, \"GA\":GA, \"GF\":GF, \"CF\":CF}"
   ]
  },
  {
   "cell_type": "code",
   "execution_count": 396,
   "metadata": {},
   "outputs": [],
   "source": [
    "df1=pd.DataFrame(myalgo, columns=[\"WL\",\"GF\",\"GA\", \"win_loss\"])"
   ]
  },
  {
   "cell_type": "code",
   "execution_count": 397,
   "metadata": {},
   "outputs": [
    {
     "data": {
      "text/html": [
       "<div>\n",
       "<style scoped>\n",
       "    .dataframe tbody tr th:only-of-type {\n",
       "        vertical-align: middle;\n",
       "    }\n",
       "\n",
       "    .dataframe tbody tr th {\n",
       "        vertical-align: top;\n",
       "    }\n",
       "\n",
       "    .dataframe thead th {\n",
       "        text-align: right;\n",
       "    }\n",
       "</style>\n",
       "<table border=\"1\" class=\"dataframe\">\n",
       "  <thead>\n",
       "    <tr style=\"text-align: right;\">\n",
       "      <th></th>\n",
       "      <th>WL</th>\n",
       "      <th>GF</th>\n",
       "      <th>GA</th>\n",
       "      <th>win_loss</th>\n",
       "    </tr>\n",
       "  </thead>\n",
       "  <tbody>\n",
       "    <tr>\n",
       "      <th>0</th>\n",
       "      <td>Win</td>\n",
       "      <td>7</td>\n",
       "      <td>2</td>\n",
       "      <td>NaN</td>\n",
       "    </tr>\n",
       "    <tr>\n",
       "      <th>1</th>\n",
       "      <td>Win</td>\n",
       "      <td>7</td>\n",
       "      <td>1</td>\n",
       "      <td>NaN</td>\n",
       "    </tr>\n",
       "    <tr>\n",
       "      <th>2</th>\n",
       "      <td>Lose</td>\n",
       "      <td>2</td>\n",
       "      <td>4</td>\n",
       "      <td>NaN</td>\n",
       "    </tr>\n",
       "    <tr>\n",
       "      <th>3</th>\n",
       "      <td>Win</td>\n",
       "      <td>5</td>\n",
       "      <td>5</td>\n",
       "      <td>NaN</td>\n",
       "    </tr>\n",
       "    <tr>\n",
       "      <th>4</th>\n",
       "      <td>Win</td>\n",
       "      <td>3</td>\n",
       "      <td>4</td>\n",
       "      <td>NaN</td>\n",
       "    </tr>\n",
       "    <tr>\n",
       "      <th>5</th>\n",
       "      <td>Lose</td>\n",
       "      <td>2</td>\n",
       "      <td>3</td>\n",
       "      <td>NaN</td>\n",
       "    </tr>\n",
       "    <tr>\n",
       "      <th>6</th>\n",
       "      <td>Lose</td>\n",
       "      <td>3</td>\n",
       "      <td>4</td>\n",
       "      <td>NaN</td>\n",
       "    </tr>\n",
       "    <tr>\n",
       "      <th>7</th>\n",
       "      <td>Win</td>\n",
       "      <td>4</td>\n",
       "      <td>5</td>\n",
       "      <td>NaN</td>\n",
       "    </tr>\n",
       "    <tr>\n",
       "      <th>8</th>\n",
       "      <td>Win</td>\n",
       "      <td>0</td>\n",
       "      <td>1</td>\n",
       "      <td>NaN</td>\n",
       "    </tr>\n",
       "    <tr>\n",
       "      <th>9</th>\n",
       "      <td>Win</td>\n",
       "      <td>4</td>\n",
       "      <td>1</td>\n",
       "      <td>NaN</td>\n",
       "    </tr>\n",
       "    <tr>\n",
       "      <th>10</th>\n",
       "      <td>Win</td>\n",
       "      <td>3</td>\n",
       "      <td>1</td>\n",
       "      <td>NaN</td>\n",
       "    </tr>\n",
       "    <tr>\n",
       "      <th>11</th>\n",
       "      <td>Lose</td>\n",
       "      <td>1</td>\n",
       "      <td>1</td>\n",
       "      <td>NaN</td>\n",
       "    </tr>\n",
       "    <tr>\n",
       "      <th>12</th>\n",
       "      <td>Win</td>\n",
       "      <td>6</td>\n",
       "      <td>6</td>\n",
       "      <td>NaN</td>\n",
       "    </tr>\n",
       "    <tr>\n",
       "      <th>13</th>\n",
       "      <td>Win</td>\n",
       "      <td>5</td>\n",
       "      <td>1</td>\n",
       "      <td>NaN</td>\n",
       "    </tr>\n",
       "    <tr>\n",
       "      <th>14</th>\n",
       "      <td>Win</td>\n",
       "      <td>1</td>\n",
       "      <td>3</td>\n",
       "      <td>NaN</td>\n",
       "    </tr>\n",
       "    <tr>\n",
       "      <th>15</th>\n",
       "      <td>Lose</td>\n",
       "      <td>7</td>\n",
       "      <td>4</td>\n",
       "      <td>NaN</td>\n",
       "    </tr>\n",
       "    <tr>\n",
       "      <th>16</th>\n",
       "      <td>Win</td>\n",
       "      <td>0</td>\n",
       "      <td>4</td>\n",
       "      <td>NaN</td>\n",
       "    </tr>\n",
       "    <tr>\n",
       "      <th>17</th>\n",
       "      <td>Lose</td>\n",
       "      <td>2</td>\n",
       "      <td>4</td>\n",
       "      <td>NaN</td>\n",
       "    </tr>\n",
       "    <tr>\n",
       "      <th>18</th>\n",
       "      <td>Win</td>\n",
       "      <td>6</td>\n",
       "      <td>0</td>\n",
       "      <td>NaN</td>\n",
       "    </tr>\n",
       "    <tr>\n",
       "      <th>19</th>\n",
       "      <td>Lose</td>\n",
       "      <td>6</td>\n",
       "      <td>3</td>\n",
       "      <td>NaN</td>\n",
       "    </tr>\n",
       "  </tbody>\n",
       "</table>\n",
       "</div>"
      ],
      "text/plain": [
       "      WL  GF  GA win_loss\n",
       "0    Win   7   2      NaN\n",
       "1    Win   7   1      NaN\n",
       "2   Lose   2   4      NaN\n",
       "3    Win   5   5      NaN\n",
       "4    Win   3   4      NaN\n",
       "5   Lose   2   3      NaN\n",
       "6   Lose   3   4      NaN\n",
       "7    Win   4   5      NaN\n",
       "8    Win   0   1      NaN\n",
       "9    Win   4   1      NaN\n",
       "10   Win   3   1      NaN\n",
       "11  Lose   1   1      NaN\n",
       "12   Win   6   6      NaN\n",
       "13   Win   5   1      NaN\n",
       "14   Win   1   3      NaN\n",
       "15  Lose   7   4      NaN\n",
       "16   Win   0   4      NaN\n",
       "17  Lose   2   4      NaN\n",
       "18   Win   6   0      NaN\n",
       "19  Lose   6   3      NaN"
      ]
     },
     "execution_count": 397,
     "metadata": {},
     "output_type": "execute_result"
    }
   ],
   "source": [
    "df1.head(20)"
   ]
  },
  {
   "cell_type": "code",
   "execution_count": null,
   "metadata": {},
   "outputs": [],
   "source": []
  },
  {
   "cell_type": "code",
   "execution_count": null,
   "metadata": {},
   "outputs": [],
   "source": [
    "WinLose = ['Win', 'Lose']"
   ]
  },
  {
   "cell_type": "code",
   "execution_count": null,
   "metadata": {},
   "outputs": [],
   "source": [
    "WL = np.random.(WinLose, size=100) "
   ]
  },
  {
   "cell_type": "code",
   "execution_count": null,
   "metadata": {},
   "outputs": [],
   "source": []
  },
  {
   "cell_type": "code",
   "execution_count": null,
   "metadata": {},
   "outputs": [],
   "source": []
  },
  {
   "cell_type": "markdown",
   "metadata": {},
   "source": [
    "## References\n",
    "***\n",
    "1. https://thehockeywriters.com/traditional-statistics-vs-advanced-analytics/\n",
    "2. https://thehockeywriters.com/traditional-statistics-vs-advanced-analytics/\n",
    "3. https://www.nhl.com/lightning/news/statistical-analysis-helps-lightning-organization-navigate-free-agency/c-636255\n",
    "4. https://www.tampabay.com/blogs/lightning/2018/04/23/the-key-to-the-lightnings-success/\n",
    "5. https://thehockeywriters.com/traditional-statistics-vs-advanced-analytics/\n",
    "6. http://article.sapub.org/10.5923.j.sports.20140403.02.html\n",
    "7. http://article.sapub.org/10.5923.j.sports.20140403.02.html\n",
    "8. https://en.wikipedia.org/wiki/Corsi_(statistic)\n",
    "9. https://github.com/mwaskom/seaborn/issues/1392"
   ]
  }
 ],
 "metadata": {
  "kernelspec": {
   "display_name": "Python 3",
   "language": "python",
   "name": "python3"
  },
  "language_info": {
   "codemirror_mode": {
    "name": "ipython",
    "version": 3
   },
   "file_extension": ".py",
   "mimetype": "text/x-python",
   "name": "python",
   "nbconvert_exporter": "python",
   "pygments_lexer": "ipython3",
   "version": "3.6.5"
  }
 },
 "nbformat": 4,
 "nbformat_minor": 2
}
