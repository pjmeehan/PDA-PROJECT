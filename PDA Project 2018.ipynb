{
 "cells": [
  {
   "cell_type": "markdown",
   "metadata": {},
   "source": [
    "# Programming for Data Analysis Project 2018\n",
    "***"
   ]
  },
  {
   "cell_type": "markdown",
   "metadata": {},
   "source": [
    "### Project Problem Statement :\n",
    "1. Choose a real world phenomenon that can be measured and for which you could collect at least one hundred data points across at least four different variables.\n",
    "2. Investigate the types of variables involved, their likely distributions, and their relationships with each other.\n",
    "3. Synthesise/simulte a data set as closely matching their properties as possible.\n",
    "4. Detail your research and implement the simulation in a Jupyter mnotebook - the data itself can simply be displayed in an output cell within the notebook."
   ]
  },
  {
   "cell_type": "markdown",
   "metadata": {},
   "source": [
    "### Real World Phenomenon\n",
    "***"
   ]
  },
  {
   "cell_type": "markdown",
   "metadata": {},
   "source": [
    "I want to choose something that I am interested in. Initially I thought of my favourite National Hockey League team, the New York Rangers. The Rangers are currently going through a rebuild and I was wondering what are some ascpects of a consistently good team that wins more than others and what are some variables that lead them to their winning ways. I would like to see the results for a couple of reasons, 1. to see if the Rangers are heading in the right direction or might they need something(new player, new offensive strategy, new defensive strategy, better goaltending etc) to help them get there and 2. to see if results could be used as a predictive tool. Ie. If the Rangers score at least 3 goals and have a save percentage higher than 90%, what are their chances of winning?\n",
    "\n"
   ]
  },
  {
   "cell_type": "markdown",
   "metadata": {},
   "source": [
    "### Analytics in Hockey\n",
    "***\n",
    "Traditional statistics have always played a significant part in the analysis of teams and players in the NHL. Statistical data influences decisions made by hockey executives regarding draft picks, trades, and contract negotiations. Coaches are dependent upon this information to determine game day line-ups, line matchups, and situational decisions during a game. (1)\n",
    "\n",
    "Over the last 10 years, the incorporation of advanced hockey analytics in hockey operations decision-making has taken the league by storm. (2)\n",
    "\n",
    "Data analytics in hockey is becoming ever more crucial for teams that want a cutting edge or step above. One such team utilizing these tools are the Tampa Bay Lighning of the National Hockey League. The man helping the Tampa Bay Lightning with the analytics is Michael Peterson, Director of Hockey Analytics.\n",
    "\n",
    "His focus is on the development of advanced statistical metrics that can tell the true value of a player and his production rather than traditional stats like goals, assists, and hits, which can be subjective and ultimately deceptive in judging a player's effectiveness.(3)\n",
    "\n",
    "The method seems to be working.The Tampa Bay Lightning have had a great run over the last few years and it would have been better save a few crucial injuries. A playoff appearance in 2014. A trip to the Stanley Cup final in 2015. A return to the Eastern Conference final in 2016. A near-miss of the postseason in 2017, another return to the Conference finals in 2018 and currently leading the league in wins this season. (4)\n",
    "\n",
    "Hockey is adapting to the times. Not so much as forgoing traditional methods of scouting, watching video and reading box scores,\n",
    "but understanding that analytics has it's part in aiding a team with crucial information to make better decisions on and off the ice. It could mean anything from finding a \"better way to enter the zone\" to helping pick the best player, that fits their needs, in the draft.\n",
    "\n",
    "A great quote on ignoring analytics in sports comes from Arik Parnass from the Earl Jessiman article \"Traditional Statistics vs. Advanced Analytics: Making Better Business Decisions\" on thehockeywriters.com website. \" Dismissing analytics means settling for an old method of evaluation and using an inefficient business practice.” (5)\n",
    "\n",
    "\n",
    "\n"
   ]
  },
  {
   "cell_type": "markdown",
   "metadata": {},
   "source": [
    "## Variables\n",
    "***\n",
    "There are many variables in hockey that can be looked at as contributing to whether a team wins or losses a certain game. \n",
    "One such research paper, \"An Analysis of Factors Contributing to Wins in the National Hockey League\" written by Joe Roith and Rhonda Magel, looked at 60 variables to estimate the probability of a team's chances of winning. (6) They determined that the most important variables were goals scored, goals against and takeaways. (7)\n",
    "\n",
    "When I first started this project, I had very similar thoughts to those of Roith and Magel. I wanted to see what variables would most likely determine if a team in the NHL wins a game. Similarly to their research, I wanted to use goals scored and goals against. Unlike their research, I was thinking of using goalies save percentage while they used takeaways.\n",
    "\n",
    "After reading articles and scouring the internet for research (that's how I came upon Roith and Magel's paper), I came across a variable I was not entirely familiar with. It's called the Corsi (statistic). It's defined as an advanced statistic used in the National Hockey League to measure shot attempt differential while at even strength play. This includes shots on goal, missed shots on goal, and shots that were blocked minus the same shot attempts against your own team. (8)\n",
    "\n",
    "I decided that I wanted to use this variable along with goals for and goals against to go along with my most important variable which was whether a team wins or loses.\n",
    "\n",
    "Let's take a look at the variables I will use :\n",
    "\n",
    "*Wins/Losses* (WL) - This is simple. At the end of the game (regulation or overtime) did the team win or lose.\n",
    "Wins is the variable I'm most interested in. Obviuosly there are so many factors that determine if a team has a shot at winning, including injuries, is the game home or away, is it the second game of a back to back, did they arrive late from poor travel conditions, along with many more others.The other three variables I chose to be the best for a small sample. Hopefully these variables will allow me to see if they have an impact on whether a win is likely.\n",
    "\n",
    "*Goals for* (GF) - the total number of goals the team scored during the game.\n",
    "Goals for also has many factors, such as injuries, whether your team was down a man a few times from penalties, fatigue or great goal tending from the other team amongst many others. At the end of the day if you don't score more goals than your opponent, you lose.\n",
    "\n",
    "*Goals against* (GA) - the total number of goals a team gives up during the game.\n",
    "The same factors that affect \"goals for\" also affect goals against. Was the team killing penalties all night and did not get to produce much offense? Was your goal tending bad? Or was puck possession not good enough?\n",
    "\n",
    "*Corsi %* (CF) - Is the total shots taken, which includes shots on goal, shots missed and shots blocked, divided by total shots taken plus the total shots given up. (CF% = CF/(CF + CA). It can be expressed as a whole number or a percentage. It is also used to approximated the time of possession, which is the amount of time a team controls the puck.\n",
    "\n",
    "My data set is based on the past 111 games for the Tampa Bay Lightning. I've included the dataset in my jupyter notebook only for the purpose of determining the distributions of my variables.\n",
    "\n",
    "Note :\n",
    "Wins/Losses will be represented by categorigal variable.\n",
    "GF and GA will be represented by non negative integers.\n",
    "CF% will be represented as non negative real numbers with two decimal places."
   ]
  },
  {
   "cell_type": "markdown",
   "metadata": {},
   "source": [
    "## Determining the Distributions of my Variables\n",
    "***"
   ]
  },
  {
   "cell_type": "markdown",
   "metadata": {},
   "source": [
    "To determine the distributions of my variables for my random data set, I first need to know what the distributions are for the variables in the 'real' data set. To do this, I will create histograms on the 'real' data set to see what the distributions look like and then determine which distributions fit best for the variables in the random data set.\n"
   ]
  },
  {
   "cell_type": "code",
   "execution_count": 50,
   "metadata": {},
   "outputs": [],
   "source": [
    "### I will import the libraries I may use for the code and the histograms I will use to help determine the distribution\n",
    "### types for my variables."
   ]
  },
  {
   "cell_type": "code",
   "execution_count": 51,
   "metadata": {},
   "outputs": [],
   "source": [
    "import numpy as np\n",
    "import matplotlib.pyplot as plt\n",
    "import pandas as pd\n",
    "import seaborn as sns"
   ]
  },
  {
   "cell_type": "code",
   "execution_count": 52,
   "metadata": {},
   "outputs": [],
   "source": [
    "### CSV module is a built-in function that allows Python to parse these csv types of files.\n",
    "### use the import function to import the 'real' data set."
   ]
  },
  {
   "cell_type": "code",
   "execution_count": 53,
   "metadata": {},
   "outputs": [],
   "source": [
    "import csv"
   ]
  },
  {
   "cell_type": "code",
   "execution_count": 54,
   "metadata": {},
   "outputs": [],
   "source": [
    "### use open function to open the file with the data."
   ]
  },
  {
   "cell_type": "code",
   "execution_count": 55,
   "metadata": {},
   "outputs": [],
   "source": [
    "a = open(\"realdata.csv\")"
   ]
  },
  {
   "cell_type": "code",
   "execution_count": 56,
   "metadata": {},
   "outputs": [],
   "source": [
    "### The reader object allows iteration, much like a regular file object does. This allows for iteration over each row \n",
    "### in the reader object and the print out of the line of data, minus the commas. This works because each row is a list\n",
    "### and we can join each element in the list together, forming one long string.[6]\n",
    "### This is done for the complete dataset.\n",
    "### df = pd.read_csv(\"realdata.csv\") creates the data frame for the 'real' data set.\n",
    "###The df.head() function gives us the first five lines of the data set."
   ]
  },
  {
   "cell_type": "code",
   "execution_count": 57,
   "metadata": {},
   "outputs": [
    {
     "data": {
      "text/html": [
       "<div>\n",
       "<style scoped>\n",
       "    .dataframe tbody tr th:only-of-type {\n",
       "        vertical-align: middle;\n",
       "    }\n",
       "\n",
       "    .dataframe tbody tr th {\n",
       "        vertical-align: top;\n",
       "    }\n",
       "\n",
       "    .dataframe thead th {\n",
       "        text-align: right;\n",
       "    }\n",
       "</style>\n",
       "<table border=\"1\" class=\"dataframe\">\n",
       "  <thead>\n",
       "    <tr style=\"text-align: right;\">\n",
       "      <th></th>\n",
       "      <th>GP</th>\n",
       "      <th>W/L</th>\n",
       "      <th>GF</th>\n",
       "      <th>GA</th>\n",
       "      <th>CF</th>\n",
       "      <th>CA</th>\n",
       "      <th>CF%</th>\n",
       "    </tr>\n",
       "  </thead>\n",
       "  <tbody>\n",
       "    <tr>\n",
       "      <th>0</th>\n",
       "      <td>1</td>\n",
       "      <td>W</td>\n",
       "      <td>5</td>\n",
       "      <td>3</td>\n",
       "      <td>34</td>\n",
       "      <td>55</td>\n",
       "      <td>38.2</td>\n",
       "    </tr>\n",
       "    <tr>\n",
       "      <th>1</th>\n",
       "      <td>2</td>\n",
       "      <td>L</td>\n",
       "      <td>4</td>\n",
       "      <td>5</td>\n",
       "      <td>32</td>\n",
       "      <td>56</td>\n",
       "      <td>36.4</td>\n",
       "    </tr>\n",
       "    <tr>\n",
       "      <th>2</th>\n",
       "      <td>3</td>\n",
       "      <td>W</td>\n",
       "      <td>4</td>\n",
       "      <td>3</td>\n",
       "      <td>60</td>\n",
       "      <td>34</td>\n",
       "      <td>63.8</td>\n",
       "    </tr>\n",
       "    <tr>\n",
       "      <th>3</th>\n",
       "      <td>4</td>\n",
       "      <td>W</td>\n",
       "      <td>5</td>\n",
       "      <td>4</td>\n",
       "      <td>50</td>\n",
       "      <td>45</td>\n",
       "      <td>52.6</td>\n",
       "    </tr>\n",
       "    <tr>\n",
       "      <th>4</th>\n",
       "      <td>5</td>\n",
       "      <td>W</td>\n",
       "      <td>2</td>\n",
       "      <td>1</td>\n",
       "      <td>58</td>\n",
       "      <td>38</td>\n",
       "      <td>60.4</td>\n",
       "    </tr>\n",
       "  </tbody>\n",
       "</table>\n",
       "</div>"
      ],
      "text/plain": [
       "   GP W/L  GF  GA  CF  CA   CF%\n",
       "0   1   W   5   3  34  55  38.2\n",
       "1   2   L   4   5  32  56  36.4\n",
       "2   3   W   4   3  60  34  63.8\n",
       "3   4   W   5   4  50  45  52.6\n",
       "4   5   W   2   1  58  38  60.4"
      ]
     },
     "execution_count": 57,
     "metadata": {},
     "output_type": "execute_result"
    }
   ],
   "source": [
    "csv_a=csv.reader(a)\n",
    "df = pd.read_csv(\"realdata.csv\")\n",
    "df.head()"
   ]
  },
  {
   "cell_type": "markdown",
   "metadata": {},
   "source": [
    "The real data headings are GP = Games Played, W/L = win or Loss, GF = Goals For, GA = Goals Against, CF = Corsi For, CA = Corsi against and CF% = CF / (CF + CA). My random data set will only look at W/L, GF, GA and CF%."
   ]
  },
  {
   "cell_type": "code",
   "execution_count": 58,
   "metadata": {},
   "outputs": [
    {
     "data": {
      "text/html": [
       "<div>\n",
       "<style scoped>\n",
       "    .dataframe tbody tr th:only-of-type {\n",
       "        vertical-align: middle;\n",
       "    }\n",
       "\n",
       "    .dataframe tbody tr th {\n",
       "        vertical-align: top;\n",
       "    }\n",
       "\n",
       "    .dataframe thead th {\n",
       "        text-align: right;\n",
       "    }\n",
       "</style>\n",
       "<table border=\"1\" class=\"dataframe\">\n",
       "  <thead>\n",
       "    <tr style=\"text-align: right;\">\n",
       "      <th></th>\n",
       "      <th>GP</th>\n",
       "      <th>GF</th>\n",
       "      <th>GA</th>\n",
       "      <th>CF</th>\n",
       "      <th>CA</th>\n",
       "      <th>CF%</th>\n",
       "    </tr>\n",
       "  </thead>\n",
       "  <tbody>\n",
       "    <tr>\n",
       "      <th>GP</th>\n",
       "      <td>1.000000</td>\n",
       "      <td>0.047397</td>\n",
       "      <td>0.130080</td>\n",
       "      <td>0.049864</td>\n",
       "      <td>-0.130224</td>\n",
       "      <td>0.123280</td>\n",
       "    </tr>\n",
       "    <tr>\n",
       "      <th>GF</th>\n",
       "      <td>0.047397</td>\n",
       "      <td>1.000000</td>\n",
       "      <td>0.083964</td>\n",
       "      <td>0.004090</td>\n",
       "      <td>0.081935</td>\n",
       "      <td>-0.060191</td>\n",
       "    </tr>\n",
       "    <tr>\n",
       "      <th>GA</th>\n",
       "      <td>0.130080</td>\n",
       "      <td>0.083964</td>\n",
       "      <td>1.000000</td>\n",
       "      <td>0.190711</td>\n",
       "      <td>0.001058</td>\n",
       "      <td>0.100464</td>\n",
       "    </tr>\n",
       "    <tr>\n",
       "      <th>CF</th>\n",
       "      <td>0.049864</td>\n",
       "      <td>0.004090</td>\n",
       "      <td>0.190711</td>\n",
       "      <td>1.000000</td>\n",
       "      <td>-0.074722</td>\n",
       "      <td>0.693000</td>\n",
       "    </tr>\n",
       "    <tr>\n",
       "      <th>CA</th>\n",
       "      <td>-0.130224</td>\n",
       "      <td>0.081935</td>\n",
       "      <td>0.001058</td>\n",
       "      <td>-0.074722</td>\n",
       "      <td>1.000000</td>\n",
       "      <td>-0.757677</td>\n",
       "    </tr>\n",
       "    <tr>\n",
       "      <th>CF%</th>\n",
       "      <td>0.123280</td>\n",
       "      <td>-0.060191</td>\n",
       "      <td>0.100464</td>\n",
       "      <td>0.693000</td>\n",
       "      <td>-0.757677</td>\n",
       "      <td>1.000000</td>\n",
       "    </tr>\n",
       "  </tbody>\n",
       "</table>\n",
       "</div>"
      ],
      "text/plain": [
       "           GP        GF        GA        CF        CA       CF%\n",
       "GP   1.000000  0.047397  0.130080  0.049864 -0.130224  0.123280\n",
       "GF   0.047397  1.000000  0.083964  0.004090  0.081935 -0.060191\n",
       "GA   0.130080  0.083964  1.000000  0.190711  0.001058  0.100464\n",
       "CF   0.049864  0.004090  0.190711  1.000000 -0.074722  0.693000\n",
       "CA  -0.130224  0.081935  0.001058 -0.074722  1.000000 -0.757677\n",
       "CF%  0.123280 -0.060191  0.100464  0.693000 -0.757677  1.000000"
      ]
     },
     "execution_count": 58,
     "metadata": {},
     "output_type": "execute_result"
    }
   ],
   "source": [
    "df.corr()"
   ]
  },
  {
   "cell_type": "code",
   "execution_count": 59,
   "metadata": {},
   "outputs": [],
   "source": [
    "### I will use the distplot() function from the Seaborn library to plot the histograms for the variables GF, GA and CF%.\n",
    "### The distplot() function combines the matplotlib hist function (with automatic calculation of a good default bin size)\n",
    "### with the seaborn kdeplot(). (9)"
   ]
  },
  {
   "cell_type": "markdown",
   "metadata": {},
   "source": [
    "#### Goals For (GF) Histogram on  'Real' Data Set\n",
    "***"
   ]
  },
  {
   "cell_type": "code",
   "execution_count": 60,
   "metadata": {},
   "outputs": [
    {
     "name": "stderr",
     "output_type": "stream",
     "text": [
      "C:\\Users\\patri\\Anaconda3\\lib\\site-packages\\matplotlib\\axes\\_axes.py:6462: UserWarning: The 'normed' kwarg is deprecated, and has been replaced by the 'density' kwarg.\n",
      "  warnings.warn(\"The 'normed' kwarg is deprecated, and has been \"\n"
     ]
    },
    {
     "data": {
      "text/plain": [
       "<matplotlib.axes._subplots.AxesSubplot at 0x13ecde85320>"
      ]
     },
     "execution_count": 60,
     "metadata": {},
     "output_type": "execute_result"
    },
    {
     "data": {
      "image/png": "[encoded data removed]",
      "text/plain": [
       "<Figure size 432x288 with 1 Axes>"
      ]
     },
     "metadata": {},
     "output_type": "display_data"
    }
   ],
   "source": [
    "sns.distplot(df[\"GF\"])"
   ]
  },
  {
   "cell_type": "markdown",
   "metadata": {},
   "source": [
    "It's not a perfect normal distribution but very close, so I will use a normal distribution for Goals For."
   ]
  },
  {
   "cell_type": "code",
   "execution_count": 116,
   "metadata": {},
   "outputs": [],
   "source": [
    "### Note : the error maessage is common and a \"patch\" is supposed to be put through to correct. (10)"
   ]
  },
  {
   "cell_type": "markdown",
   "metadata": {},
   "source": [
    "#### Goals Against (GA) Histogram on 'Real' Data Set\n",
    "***"
   ]
  },
  {
   "cell_type": "code",
   "execution_count": 62,
   "metadata": {},
   "outputs": [
    {
     "name": "stderr",
     "output_type": "stream",
     "text": [
      "C:\\Users\\patri\\Anaconda3\\lib\\site-packages\\matplotlib\\axes\\_axes.py:6462: UserWarning: The 'normed' kwarg is deprecated, and has been replaced by the 'density' kwarg.\n",
      "  warnings.warn(\"The 'normed' kwarg is deprecated, and has been \"\n"
     ]
    },
    {
     "data": {
      "text/plain": [
       "<matplotlib.axes._subplots.AxesSubplot at 0x13ecde85240>"
      ]
     },
     "execution_count": 62,
     "metadata": {},
     "output_type": "execute_result"
    },
    {
     "data": {
      "image/png": "[encoded data removed]",
      "text/plain": [
       "<Figure size 432x288 with 1 Axes>"
      ]
     },
     "metadata": {},
     "output_type": "display_data"
    }
   ],
   "source": [
    "sns.distplot(df[\"GA\"])"
   ]
  },
  {
   "cell_type": "markdown",
   "metadata": {},
   "source": [
    "Again, it's not a perfect normal distribution but very close, so I will use a normal distribution for Goals Against."
   ]
  },
  {
   "cell_type": "markdown",
   "metadata": {},
   "source": [
    "####  Corsi For % (CF%) Histogram on 'Real' Data Set\n",
    "***"
   ]
  },
  {
   "cell_type": "code",
   "execution_count": 63,
   "metadata": {},
   "outputs": [
    {
     "name": "stderr",
     "output_type": "stream",
     "text": [
      "C:\\Users\\patri\\Anaconda3\\lib\\site-packages\\matplotlib\\axes\\_axes.py:6462: UserWarning: The 'normed' kwarg is deprecated, and has been replaced by the 'density' kwarg.\n",
      "  warnings.warn(\"The 'normed' kwarg is deprecated, and has been \"\n"
     ]
    },
    {
     "data": {
      "text/plain": [
       "<matplotlib.axes._subplots.AxesSubplot at 0x13ecdf7ad68>"
      ]
     },
     "execution_count": 63,
     "metadata": {},
     "output_type": "execute_result"
    },
    {
     "data": {
      "image/png": "[encoded data removed]",
      "text/plain": [
       "<Figure size 432x288 with 1 Axes>"
      ]
     },
     "metadata": {},
     "output_type": "display_data"
    }
   ],
   "source": [
    "sns.distplot(df[\"CF%\"])"
   ]
  },
  {
   "cell_type": "markdown",
   "metadata": {},
   "source": [
    "Lastly, The CF% distribution looks like a normal distribution as well."
   ]
  },
  {
   "cell_type": "markdown",
   "metadata": {},
   "source": [
    "Since my first variable only has two outcomes, win or lose, it is by definition a binomial distribution. My other three variables appear to follow a normal distribution as shown in the histograms above. I will apply a normal distribution to these three variables."
   ]
  },
  {
   "cell_type": "markdown",
   "metadata": {},
   "source": [
    "# Model for Data Set\n",
    "***"
   ]
  },
  {
   "cell_type": "markdown",
   "metadata": {},
   "source": [
    "To create the model for my data set, I will use the random() function from the NumPy library. I will use the randon() function first to create individual data sets for each of the four variables and then create a master data set containing all four individual data sets."
   ]
  },
  {
   "cell_type": "markdown",
   "metadata": {},
   "source": [
    "For the individual data sets, I will use two different random() functions : random.choice() and random.normal().\n",
    "I will use the random.choice() function for the W/L, GF and GA data sets. First I will create an array for the data \n",
    "in each set. Then, I will use that array in the random.choice function() to create a data set of size equal to 100 with given probabilities of each element in the data set.\n",
    "I chose the random.choice function for three reasons, 1. it genereates a random sample for a 1 dimension array while \n",
    "allowing for both uniform and non uniform distributions 2. it allows to assign specific probability to each element\n",
    "in the data set and 3. it works with integers.\n",
    "\n",
    "I will use the random.normal() function on the CF% data set because it gives me a uniform distribution using floats."
   ]
  },
  {
   "cell_type": "code",
   "execution_count": 65,
   "metadata": {},
   "outputs": [],
   "source": [
    "### numpy.random.choice(a, size=None, replace=True, p=None) (11)\n",
    "\n",
    "### Parameters:\t\n",
    "### a : 1-D array-like or int\n",
    "###    If an ndarray, a random sample is generated from its elements. If an int, the random sample is generated as if a was np.arange(n)\n",
    "### size : int or tuple of ints, optional\n",
    "###    Output shape. If the given shape is, e.g., (m, n, k), then m * n * k samples are drawn. Default is None, in which case a single value is returned.\n",
    "### replace : boolean, optional\n",
    "###    Whether the sample is with or without replacement\n",
    "### p : 1-D array-like, optional\n",
    "###    The probabilities associated with each entry in a. If not given the sample assumes a uniform distribution over all entries in a.\n",
    "\n",
    "### Returns:\t\n",
    "### samples : 1-D ndarray, shape (size,)\n",
    "### The generated random samples\n"
   ]
  },
  {
   "cell_type": "markdown",
   "metadata": {},
   "source": [
    "Since we will be assigning probabilities to the individual elements in each of the four variables, we first must find out what those probabilities need to be by using the describe() and value_counts() functions from the Pandas library. "
   ]
  },
  {
   "cell_type": "code",
   "execution_count": 66,
   "metadata": {},
   "outputs": [],
   "source": [
    "### DataFrame.describe(percentiles=None, include=None, exclude=None)[source] (12)\n",
    "\n",
    "### Generates descriptive statistics that summarize the central tendency, dispersion and shape of a dataset’s distribution,\n",
    "### excluding NaN values.\n",
    "### Analyzes both numeric and object series, as well as DataFrame column sets of mixed data types. The output will\n",
    "### vary depending on what is provided. Refer to the notes below for more detail."
   ]
  },
  {
   "cell_type": "code",
   "execution_count": 67,
   "metadata": {},
   "outputs": [],
   "source": [
    "### Series.value_counts(normalize=False, sort=True, ascending=False, bins=None, dropna=True)[source] (13)\n",
    "\n",
    "### Returns object containing counts of unique values.\n",
    "### The resulting object will be in descending order so that the first element is the most frequently-occurring element.\n",
    "### Excludes NA values by default."
   ]
  },
  {
   "cell_type": "markdown",
   "metadata": {},
   "source": [
    "#### Win / Loss (WL) Variable"
   ]
  },
  {
   "cell_type": "markdown",
   "metadata": {},
   "source": [
    "For the Win/Loss variable, we need to find the percentage of games won. This can be accomplished by using the describe function on the real data set."
   ]
  },
  {
   "cell_type": "code",
   "execution_count": 68,
   "metadata": {},
   "outputs": [
    {
     "data": {
      "text/html": [
       "<div>\n",
       "<style scoped>\n",
       "    .dataframe tbody tr th:only-of-type {\n",
       "        vertical-align: middle;\n",
       "    }\n",
       "\n",
       "    .dataframe tbody tr th {\n",
       "        vertical-align: top;\n",
       "    }\n",
       "\n",
       "    .dataframe thead th {\n",
       "        text-align: right;\n",
       "    }\n",
       "</style>\n",
       "<table border=\"1\" class=\"dataframe\">\n",
       "  <thead>\n",
       "    <tr style=\"text-align: right;\">\n",
       "      <th></th>\n",
       "      <th>W/L</th>\n",
       "    </tr>\n",
       "  </thead>\n",
       "  <tbody>\n",
       "    <tr>\n",
       "      <th>count</th>\n",
       "      <td>111</td>\n",
       "    </tr>\n",
       "    <tr>\n",
       "      <th>unique</th>\n",
       "      <td>2</td>\n",
       "    </tr>\n",
       "    <tr>\n",
       "      <th>top</th>\n",
       "      <td>W</td>\n",
       "    </tr>\n",
       "    <tr>\n",
       "      <th>freq</th>\n",
       "      <td>75</td>\n",
       "    </tr>\n",
       "  </tbody>\n",
       "</table>\n",
       "</div>"
      ],
      "text/plain": [
       "        W/L\n",
       "count   111\n",
       "unique    2\n",
       "top       W\n",
       "freq     75"
      ]
     },
     "execution_count": 68,
     "metadata": {},
     "output_type": "execute_result"
    }
   ],
   "source": [
    "df.describe(include=[np.object])"
   ]
  },
  {
   "cell_type": "markdown",
   "metadata": {},
   "source": [
    "From the above descriptive statistic, we know that win (W) has a frequency of 75 and count (total games played) is 111. This means that out of the 111 games, Tampa Bay won 75 times. This is a winning percentage of 67.567567.I will round it to 67.5%."
   ]
  },
  {
   "cell_type": "code",
   "execution_count": 118,
   "metadata": {},
   "outputs": [],
   "source": [
    "### define a simple array of 'Win' or 'Loss'"
   ]
  },
  {
   "cell_type": "code",
   "execution_count": 121,
   "metadata": {},
   "outputs": [],
   "source": [
    "WinLoss_arr = ['Win', 'Loss']"
   ]
  },
  {
   "cell_type": "code",
   "execution_count": 122,
   "metadata": {},
   "outputs": [],
   "source": [
    "### The array is WinLoss_arr, our size =100, and our probabilities = .675 for 'Win' and .325 for 'Loss'. Now just\n",
    "### need to plug these into the random.choice() function."
   ]
  },
  {
   "cell_type": "code",
   "execution_count": 123,
   "metadata": {},
   "outputs": [],
   "source": [
    "WL = np.random.choice(WinLoss_arr, 100, p=[.675, .325])"
   ]
  },
  {
   "cell_type": "markdown",
   "metadata": {},
   "source": [
    "#### Goals For (GF) variable"
   ]
  },
  {
   "cell_type": "markdown",
   "metadata": {},
   "source": [
    "First, I will use the describe() fuction for the GF, GA and CF% variables to attain the descriptive statistics. The numbers I am interested are the standard deviation, mean, min and max. I need the min and max for GF and GA because this allows me to see what is the lowest and highest goals scored for and against.  "
   ]
  },
  {
   "cell_type": "code",
   "execution_count": 124,
   "metadata": {},
   "outputs": [
    {
     "data": {
      "text/html": [
       "<div>\n",
       "<style scoped>\n",
       "    .dataframe tbody tr th:only-of-type {\n",
       "        vertical-align: middle;\n",
       "    }\n",
       "\n",
       "    .dataframe tbody tr th {\n",
       "        vertical-align: top;\n",
       "    }\n",
       "\n",
       "    .dataframe thead th {\n",
       "        text-align: right;\n",
       "    }\n",
       "</style>\n",
       "<table border=\"1\" class=\"dataframe\">\n",
       "  <thead>\n",
       "    <tr style=\"text-align: right;\">\n",
       "      <th></th>\n",
       "      <th>GP</th>\n",
       "      <th>GF</th>\n",
       "      <th>GA</th>\n",
       "      <th>CF</th>\n",
       "      <th>CA</th>\n",
       "      <th>CF%</th>\n",
       "    </tr>\n",
       "  </thead>\n",
       "  <tbody>\n",
       "    <tr>\n",
       "      <th>count</th>\n",
       "      <td>111.000000</td>\n",
       "      <td>111.000000</td>\n",
       "      <td>111.000000</td>\n",
       "      <td>111.000000</td>\n",
       "      <td>111.000000</td>\n",
       "      <td>111.000000</td>\n",
       "    </tr>\n",
       "    <tr>\n",
       "      <th>mean</th>\n",
       "      <td>56.000000</td>\n",
       "      <td>3.693694</td>\n",
       "      <td>2.891892</td>\n",
       "      <td>49.855856</td>\n",
       "      <td>45.909910</td>\n",
       "      <td>52.117117</td>\n",
       "    </tr>\n",
       "    <tr>\n",
       "      <th>std</th>\n",
       "      <td>32.186954</td>\n",
       "      <td>1.877100</td>\n",
       "      <td>1.691429</td>\n",
       "      <td>9.589622</td>\n",
       "      <td>9.749172</td>\n",
       "      <td>7.629201</td>\n",
       "    </tr>\n",
       "    <tr>\n",
       "      <th>min</th>\n",
       "      <td>1.000000</td>\n",
       "      <td>0.000000</td>\n",
       "      <td>0.000000</td>\n",
       "      <td>27.000000</td>\n",
       "      <td>18.000000</td>\n",
       "      <td>36.400000</td>\n",
       "    </tr>\n",
       "    <tr>\n",
       "      <th>25%</th>\n",
       "      <td>28.500000</td>\n",
       "      <td>2.000000</td>\n",
       "      <td>2.000000</td>\n",
       "      <td>44.000000</td>\n",
       "      <td>38.000000</td>\n",
       "      <td>47.050000</td>\n",
       "    </tr>\n",
       "    <tr>\n",
       "      <th>50%</th>\n",
       "      <td>56.000000</td>\n",
       "      <td>4.000000</td>\n",
       "      <td>3.000000</td>\n",
       "      <td>49.000000</td>\n",
       "      <td>46.000000</td>\n",
       "      <td>52.500000</td>\n",
       "    </tr>\n",
       "    <tr>\n",
       "      <th>75%</th>\n",
       "      <td>83.500000</td>\n",
       "      <td>5.000000</td>\n",
       "      <td>4.000000</td>\n",
       "      <td>56.000000</td>\n",
       "      <td>52.000000</td>\n",
       "      <td>57.450000</td>\n",
       "    </tr>\n",
       "    <tr>\n",
       "      <th>max</th>\n",
       "      <td>111.000000</td>\n",
       "      <td>8.000000</td>\n",
       "      <td>7.000000</td>\n",
       "      <td>76.000000</td>\n",
       "      <td>70.000000</td>\n",
       "      <td>74.300000</td>\n",
       "    </tr>\n",
       "  </tbody>\n",
       "</table>\n",
       "</div>"
      ],
      "text/plain": [
       "               GP          GF          GA          CF          CA         CF%\n",
       "count  111.000000  111.000000  111.000000  111.000000  111.000000  111.000000\n",
       "mean    56.000000    3.693694    2.891892   49.855856   45.909910   52.117117\n",
       "std     32.186954    1.877100    1.691429    9.589622    9.749172    7.629201\n",
       "min      1.000000    0.000000    0.000000   27.000000   18.000000   36.400000\n",
       "25%     28.500000    2.000000    2.000000   44.000000   38.000000   47.050000\n",
       "50%     56.000000    4.000000    3.000000   49.000000   46.000000   52.500000\n",
       "75%     83.500000    5.000000    4.000000   56.000000   52.000000   57.450000\n",
       "max    111.000000    8.000000    7.000000   76.000000   70.000000   74.300000"
      ]
     },
     "execution_count": 124,
     "metadata": {},
     "output_type": "execute_result"
    }
   ],
   "source": [
    "df.describe()"
   ]
  },
  {
   "cell_type": "markdown",
   "metadata": {},
   "source": [
    "From the above table, I can see the following :\n",
    "1. GF : the standard deviation is 1.8771, the mean is 3.693694, the min is 0.00 and the max is 8.0.\n",
    "2. GA : the standard deviation is 1.691429, the mean is 2.891892, the min is 0.00 and the max is 7.0.\n",
    "3. CF% : the standard deviation is 7.629201, the mean is 52.117117, the min is 36.40 and the max is 74.30."
   ]
  },
  {
   "cell_type": "markdown",
   "metadata": {},
   "source": [
    "Now that I have the standard deviations, means, mins and maxs for our GF, GA and CF variables, I need to find the probabilities for just the GF and GA elements. This allows me to keep the data random but help shape the distribution to a to a normal distribution. The CF seems to be arbitrary and thus I will leave it as a total random number (more on that below)."
   ]
  },
  {
   "cell_type": "markdown",
   "metadata": {},
   "source": [
    "To find the probabilities on the individual elements in the data set, I will use the value_counts() function."
   ]
  },
  {
   "cell_type": "code",
   "execution_count": 125,
   "metadata": {},
   "outputs": [],
   "source": [
    "### we need to set normalize to True. This allows the frequencies to be returned. The sort.index() function puts the \n",
    "### information in order of index. The * 100 justs puts the results in percentage."
   ]
  },
  {
   "cell_type": "code",
   "execution_count": 126,
   "metadata": {},
   "outputs": [
    {
     "data": {
      "text/plain": [
       "0     0.900901\n",
       "1    15.315315\n",
       "2    12.612613\n",
       "3    15.315315\n",
       "4    22.522523\n",
       "5    18.918919\n",
       "6     5.405405\n",
       "7     6.306306\n",
       "8     2.702703\n",
       "Name: GF, dtype: float64"
      ]
     },
     "execution_count": 126,
     "metadata": {},
     "output_type": "execute_result"
    }
   ],
   "source": [
    "df2 = df['GF'].value_counts(normalize=True).sort_index() * 100\n",
    "df2"
   ]
  },
  {
   "cell_type": "code",
   "execution_count": 127,
   "metadata": {},
   "outputs": [],
   "source": [
    "GoalsFor_arr = [0,1,2,3,4,5,6,7,8]"
   ]
  },
  {
   "cell_type": "markdown",
   "metadata": {},
   "source": [
    "From the above, I can see the percentages I need to apply to each of the elements in the GF data set. Note: I rounded index 0, which represents 0 goals as 1.0. The other elements were rounded to second decimal."
   ]
  },
  {
   "cell_type": "code",
   "execution_count": null,
   "metadata": {},
   "outputs": [],
   "source": [
    "### The random.choice() function for the GF data set."
   ]
  },
  {
   "cell_type": "code",
   "execution_count": 128,
   "metadata": {},
   "outputs": [],
   "source": [
    "GF = np.random.choice(GoalsFor_arr, 100, p=[0.010, 0.153, 0.126, 0.153, 0.225, 0.189, 0.054, 0.063, 0.027])"
   ]
  },
  {
   "cell_type": "markdown",
   "metadata": {},
   "source": [
    "#### Goals Against (GA) variable"
   ]
  },
  {
   "cell_type": "markdown",
   "metadata": {},
   "source": [
    "We'll use the same technique used on the GF data, on the GA data set. "
   ]
  },
  {
   "cell_type": "code",
   "execution_count": 129,
   "metadata": {},
   "outputs": [
    {
     "data": {
      "text/plain": [
       "0     8.108108\n",
       "1    13.513514\n",
       "2    21.621622\n",
       "3    21.621622\n",
       "4    16.216216\n",
       "5    12.612613\n",
       "6     4.504505\n",
       "7     1.801802\n",
       "Name: GA, dtype: float64"
      ]
     },
     "execution_count": 129,
     "metadata": {},
     "output_type": "execute_result"
    }
   ],
   "source": [
    "df2 = df['GA'].value_counts(normalize=True).sort_index() * 100\n",
    "df2"
   ]
  },
  {
   "cell_type": "code",
   "execution_count": 130,
   "metadata": {},
   "outputs": [],
   "source": [
    "GoalsAgainst_arr = [0,1,2,3,4,5,6,7]"
   ]
  },
  {
   "cell_type": "markdown",
   "metadata": {},
   "source": [
    "From the above, I can see the percentages I need to apply to each of the elements in the GA data set. Note: I changed index 7, which represents 7 goals as 1.9. This was done because all the elements' probabilities must equal 1.00. The other elements were rounded to the second decimal."
   ]
  },
  {
   "cell_type": "code",
   "execution_count": null,
   "metadata": {},
   "outputs": [],
   "source": [
    "### The random.choice() function for the GA data set."
   ]
  },
  {
   "cell_type": "code",
   "execution_count": 131,
   "metadata": {},
   "outputs": [],
   "source": [
    "GA = np.random.choice(GoalsAgainst_arr, 100, p=[0.081, 0.135, 0.216, 0.216, 0.162, 0.126, 0.045, 0.019])"
   ]
  },
  {
   "cell_type": "markdown",
   "metadata": {},
   "source": [
    "#### Corsi % (CF) Variable"
   ]
  },
  {
   "cell_type": "raw",
   "metadata": {},
   "source": [
    "I used the random.randn() function for the CF because it allows me to set upper and lower limits (the max and min), set the number of size of data and it gives me a uniform distribution."
   ]
  },
  {
   "cell_type": "code",
   "execution_count": 138,
   "metadata": {},
   "outputs": [],
   "source": [
    "### the random.normal() function allows for the use of the mean, standard deviation and size. These numbers were obtained\n",
    "### from the above descriptive statistics and plugged into the function. "
   ]
  },
  {
   "cell_type": "code",
   "execution_count": 133,
   "metadata": {},
   "outputs": [],
   "source": [
    "CF = np.random.normal(52.117117,7.629201,100)"
   ]
  },
  {
   "cell_type": "markdown",
   "metadata": {},
   "source": [
    "#### Master Data Set"
   ]
  },
  {
   "cell_type": "code",
   "execution_count": 134,
   "metadata": {},
   "outputs": [],
   "source": [
    "### I will now create the master data set by combing all the individual data sets. I define mine as 'mydf'."
   ]
  },
  {
   "cell_type": "code",
   "execution_count": 135,
   "metadata": {},
   "outputs": [],
   "source": [
    "mydf = {\"WL\":WL, \"GF\":GF, \"GA\":GA, \"CF\":CF}"
   ]
  },
  {
   "cell_type": "code",
   "execution_count": 136,
   "metadata": {},
   "outputs": [],
   "source": [
    "### I will now get the output of the random data set my just entering mydf."
   ]
  },
  {
   "cell_type": "code",
   "execution_count": 137,
   "metadata": {},
   "outputs": [
    {
     "data": {
      "text/plain": [
       "{'WL': array(['Win', 'Win', 'Loss', 'Loss', 'Loss', 'Win', 'Win', 'Loss', 'Loss',\n",
       "        'Win', 'Loss', 'Win', 'Win', 'Win', 'Loss', 'Loss', 'Win', 'Win',\n",
       "        'Win', 'Loss', 'Loss', 'Loss', 'Loss', 'Win', 'Win', 'Win', 'Loss',\n",
       "        'Win', 'Win', 'Loss', 'Win', 'Loss', 'Loss', 'Win', 'Win', 'Loss',\n",
       "        'Win', 'Win', 'Loss', 'Win', 'Win', 'Win', 'Win', 'Win', 'Win',\n",
       "        'Win', 'Win', 'Win', 'Loss', 'Win', 'Win', 'Win', 'Loss', 'Win',\n",
       "        'Win', 'Win', 'Win', 'Loss', 'Win', 'Win', 'Win', 'Win', 'Win',\n",
       "        'Win', 'Loss', 'Win', 'Loss', 'Win', 'Win', 'Win', 'Win', 'Win',\n",
       "        'Loss', 'Win', 'Win', 'Win', 'Win', 'Loss', 'Win', 'Win', 'Win',\n",
       "        'Win', 'Win', 'Win', 'Loss', 'Win', 'Win', 'Win', 'Win', 'Loss',\n",
       "        'Win', 'Win', 'Win', 'Loss', 'Win', 'Loss', 'Win', 'Win', 'Loss',\n",
       "        'Win'], dtype='<U4'),\n",
       " 'GF': array([4, 3, 3, 4, 4, 2, 2, 4, 5, 5, 5, 5, 2, 4, 3, 2, 5, 5, 3, 6, 1, 6,\n",
       "        4, 2, 6, 3, 5, 5, 5, 3, 4, 2, 4, 1, 4, 5, 3, 2, 5, 2, 4, 4, 2, 4,\n",
       "        5, 1, 2, 2, 3, 4, 1, 2, 1, 2, 4, 4, 1, 8, 6, 1, 2, 5, 4, 3, 7, 7,\n",
       "        7, 3, 4, 4, 5, 5, 6, 5, 5, 3, 6, 3, 5, 3, 6, 4, 6, 4, 5, 4, 1, 0,\n",
       "        2, 0, 2, 4, 3, 3, 5, 1, 7, 3, 1, 1]),\n",
       " 'GA': array([4, 6, 3, 2, 2, 1, 0, 1, 3, 1, 1, 1, 2, 5, 1, 6, 4, 3, 2, 2, 2, 3,\n",
       "        3, 3, 1, 6, 1, 4, 5, 0, 4, 4, 3, 1, 4, 4, 4, 5, 3, 1, 7, 2, 5, 2,\n",
       "        2, 3, 0, 2, 5, 1, 0, 3, 3, 2, 4, 3, 2, 0, 5, 2, 0, 3, 0, 6, 5, 4,\n",
       "        3, 4, 0, 0, 3, 2, 3, 2, 3, 1, 3, 1, 3, 3, 3, 5, 0, 4, 2, 5, 4, 5,\n",
       "        3, 1, 7, 1, 0, 5, 3, 5, 3, 2, 2, 2]),\n",
       " 'CF': array([44.28425033, 45.63560182, 60.46018303, 61.35487788, 44.83221597,\n",
       "        51.27328166, 61.19827734, 63.26177643, 57.40902303, 29.92562743,\n",
       "        49.86908899, 44.61770057, 56.1208802 , 48.9319904 , 50.07458148,\n",
       "        36.24019343, 46.07016174, 56.04097294, 46.04549464, 53.22532279,\n",
       "        55.04977953, 52.1762594 , 66.49760203, 56.02967979, 46.52205341,\n",
       "        42.61784895, 47.56218732, 59.68451266, 54.51531729, 52.80972445,\n",
       "        65.81991269, 50.22656819, 53.30116487, 44.20703499, 66.40719757,\n",
       "        50.25178532, 47.72294812, 51.10298485, 49.0103363 , 56.42413073,\n",
       "        52.49588367, 59.51004355, 61.15830923, 43.07219548, 53.14482363,\n",
       "        50.82473954, 58.49684234, 52.55605425, 53.37972934, 48.72161481,\n",
       "        42.7244603 , 66.30033664, 64.26638645, 71.84993236, 44.87153067,\n",
       "        57.34072544, 53.99435187, 59.88448501, 54.44703509, 44.75812181,\n",
       "        44.08740346, 57.91540835, 45.51045679, 58.35687394, 50.90766978,\n",
       "        53.47244274, 59.36175186, 50.68876821, 58.2270923 , 55.75449388,\n",
       "        61.72053931, 46.17684087, 59.66517426, 49.29797249, 47.68326972,\n",
       "        56.06886483, 39.70180291, 49.08354378, 71.14351682, 44.27693295,\n",
       "        44.93541471, 59.72662358, 65.78008532, 45.45823597, 53.21097366,\n",
       "        54.25900117, 43.03656125, 55.01336514, 57.12544808, 57.73695328,\n",
       "        42.26942729, 51.21447472, 41.33343975, 45.92330625, 45.09376487,\n",
       "        54.69490533, 50.50572555, 54.62434121, 45.26315516, 54.0440243 ])}"
      ]
     },
     "execution_count": 137,
     "metadata": {},
     "output_type": "execute_result"
    }
   ],
   "source": [
    "mydf"
   ]
  },
  {
   "cell_type": "markdown",
   "metadata": {},
   "source": [
    "## Testing My Random Data Set\n",
    "***"
   ]
  },
  {
   "cell_type": "markdown",
   "metadata": {},
   "source": [
    "To test my random data set, I will need to compare it to the real data set. To do this, I will need to do two things :\n",
    "1. plot histograms of the individual data sets and compare them to the real data set.\n",
    "2. run the descriptive statistics on the random data set and see how they compare to the real data set statistics."
   ]
  },
  {
   "cell_type": "code",
   "execution_count": 84,
   "metadata": {},
   "outputs": [],
   "source": [
    "### Since describe is a Pandas function, I will need to create a data frame in order to run the histograms and \n",
    "### describe() function.\n",
    "### I use mydf as my data set and set the columns to represent my four variables."
   ]
  },
  {
   "cell_type": "code",
   "execution_count": 85,
   "metadata": {},
   "outputs": [],
   "source": [
    "df3=pd.DataFrame(mydf, columns=[\"WL\", \"GF\", \"GA\", \"CF\"])"
   ]
  },
  {
   "cell_type": "markdown",
   "metadata": {},
   "source": [
    "First I will plot histograms of the GF, GA and CF% data sets to see if the distributions match the real data set."
   ]
  },
  {
   "cell_type": "markdown",
   "metadata": {},
   "source": [
    "#### Random Data Goals For (GF) Histogram"
   ]
  },
  {
   "cell_type": "code",
   "execution_count": 86,
   "metadata": {},
   "outputs": [
    {
     "name": "stderr",
     "output_type": "stream",
     "text": [
      "C:\\Users\\patri\\Anaconda3\\lib\\site-packages\\matplotlib\\axes\\_axes.py:6462: UserWarning: The 'normed' kwarg is deprecated, and has been replaced by the 'density' kwarg.\n",
      "  warnings.warn(\"The 'normed' kwarg is deprecated, and has been \"\n"
     ]
    },
    {
     "data": {
      "text/plain": [
       "<matplotlib.axes._subplots.AxesSubplot at 0x13ece001d30>"
      ]
     },
     "execution_count": 86,
     "metadata": {},
     "output_type": "execute_result"
    },
    {
     "data": {
      "image/png": "[encoded data removed]",
      "text/plain": [
       "<Figure size 432x288 with 1 Axes>"
      ]
     },
     "metadata": {},
     "output_type": "display_data"
    }
   ],
   "source": [
    "sns.distplot(df3[\"GF\"])"
   ]
  },
  {
   "cell_type": "markdown",
   "metadata": {},
   "source": [
    "Good result. Looks very similar to the real GF data set."
   ]
  },
  {
   "cell_type": "markdown",
   "metadata": {},
   "source": [
    "#### Random Data Goals Against (GA) Histogram"
   ]
  },
  {
   "cell_type": "code",
   "execution_count": 87,
   "metadata": {},
   "outputs": [
    {
     "name": "stderr",
     "output_type": "stream",
     "text": [
      "C:\\Users\\patri\\Anaconda3\\lib\\site-packages\\matplotlib\\axes\\_axes.py:6462: UserWarning: The 'normed' kwarg is deprecated, and has been replaced by the 'density' kwarg.\n",
      "  warnings.warn(\"The 'normed' kwarg is deprecated, and has been \"\n"
     ]
    },
    {
     "data": {
      "text/plain": [
       "<matplotlib.axes._subplots.AxesSubplot at 0x13ece028cf8>"
      ]
     },
     "execution_count": 87,
     "metadata": {},
     "output_type": "execute_result"
    },
    {
     "data": {
      "image/png": "[encoded data removed]",
      "text/plain": [
       "<Figure size 432x288 with 1 Axes>"
      ]
     },
     "metadata": {},
     "output_type": "display_data"
    }
   ],
   "source": [
    "sns.distplot(df3[\"GA\"])"
   ]
  },
  {
   "cell_type": "markdown",
   "metadata": {},
   "source": [
    "It looks good, it's not a perfect match but still shows the uniform distribution qualities."
   ]
  },
  {
   "cell_type": "markdown",
   "metadata": {},
   "source": [
    "#### Random Data Corsi (CF) Histogram"
   ]
  },
  {
   "cell_type": "code",
   "execution_count": 88,
   "metadata": {},
   "outputs": [
    {
     "name": "stderr",
     "output_type": "stream",
     "text": [
      "C:\\Users\\patri\\Anaconda3\\lib\\site-packages\\matplotlib\\axes\\_axes.py:6462: UserWarning: The 'normed' kwarg is deprecated, and has been replaced by the 'density' kwarg.\n",
      "  warnings.warn(\"The 'normed' kwarg is deprecated, and has been \"\n"
     ]
    },
    {
     "data": {
      "text/plain": [
       "<matplotlib.axes._subplots.AxesSubplot at 0x13ece0baf98>"
      ]
     },
     "execution_count": 88,
     "metadata": {},
     "output_type": "execute_result"
    },
    {
     "data": {
      "image/png": "[encoded data removed]",
      "text/plain": [
       "<Figure size 432x288 with 1 Axes>"
      ]
     },
     "metadata": {},
     "output_type": "display_data"
    }
   ],
   "source": [
    "sns.distplot(df3[\"CF\"])"
   ]
  },
  {
   "cell_type": "markdown",
   "metadata": {},
   "source": [
    "Once again, it looks very good."
   ]
  },
  {
   "cell_type": "markdown",
   "metadata": {},
   "source": [
    "#### Descriptive Statistics"
   ]
  },
  {
   "cell_type": "markdown",
   "metadata": {},
   "source": [
    "I will now run the describe() functions to see if my random data set matches or is close to the real data set."
   ]
  },
  {
   "cell_type": "code",
   "execution_count": 139,
   "metadata": {},
   "outputs": [
    {
     "data": {
      "text/html": [
       "<div>\n",
       "<style scoped>\n",
       "    .dataframe tbody tr th:only-of-type {\n",
       "        vertical-align: middle;\n",
       "    }\n",
       "\n",
       "    .dataframe tbody tr th {\n",
       "        vertical-align: top;\n",
       "    }\n",
       "\n",
       "    .dataframe thead th {\n",
       "        text-align: right;\n",
       "    }\n",
       "</style>\n",
       "<table border=\"1\" class=\"dataframe\">\n",
       "  <thead>\n",
       "    <tr style=\"text-align: right;\">\n",
       "      <th></th>\n",
       "      <th>WL</th>\n",
       "    </tr>\n",
       "  </thead>\n",
       "  <tbody>\n",
       "    <tr>\n",
       "      <th>count</th>\n",
       "      <td>100</td>\n",
       "    </tr>\n",
       "    <tr>\n",
       "      <th>unique</th>\n",
       "      <td>2</td>\n",
       "    </tr>\n",
       "    <tr>\n",
       "      <th>top</th>\n",
       "      <td>Win</td>\n",
       "    </tr>\n",
       "    <tr>\n",
       "      <th>freq</th>\n",
       "      <td>70</td>\n",
       "    </tr>\n",
       "  </tbody>\n",
       "</table>\n",
       "</div>"
      ],
      "text/plain": [
       "         WL\n",
       "count   100\n",
       "unique    2\n",
       "top     Win\n",
       "freq     70"
      ]
     },
     "execution_count": 139,
     "metadata": {},
     "output_type": "execute_result"
    }
   ],
   "source": [
    "df3.describe(include=[np.object])"
   ]
  },
  {
   "cell_type": "markdown",
   "metadata": {},
   "source": [
    "Looks good. I looking for a frequency of approximately 67 and we generated 65."
   ]
  },
  {
   "cell_type": "code",
   "execution_count": 140,
   "metadata": {},
   "outputs": [
    {
     "data": {
      "text/html": [
       "<div>\n",
       "<style scoped>\n",
       "    .dataframe tbody tr th:only-of-type {\n",
       "        vertical-align: middle;\n",
       "    }\n",
       "\n",
       "    .dataframe tbody tr th {\n",
       "        vertical-align: top;\n",
       "    }\n",
       "\n",
       "    .dataframe thead th {\n",
       "        text-align: right;\n",
       "    }\n",
       "</style>\n",
       "<table border=\"1\" class=\"dataframe\">\n",
       "  <thead>\n",
       "    <tr style=\"text-align: right;\">\n",
       "      <th></th>\n",
       "      <th>GF</th>\n",
       "      <th>GA</th>\n",
       "      <th>CF</th>\n",
       "    </tr>\n",
       "  </thead>\n",
       "  <tbody>\n",
       "    <tr>\n",
       "      <th>count</th>\n",
       "      <td>100.000000</td>\n",
       "      <td>100.000000</td>\n",
       "      <td>100.000000</td>\n",
       "    </tr>\n",
       "    <tr>\n",
       "      <th>mean</th>\n",
       "      <td>3.890000</td>\n",
       "      <td>2.620000</td>\n",
       "      <td>52.662782</td>\n",
       "    </tr>\n",
       "    <tr>\n",
       "      <th>std</th>\n",
       "      <td>1.885056</td>\n",
       "      <td>1.637811</td>\n",
       "      <td>6.791164</td>\n",
       "    </tr>\n",
       "    <tr>\n",
       "      <th>min</th>\n",
       "      <td>0.000000</td>\n",
       "      <td>0.000000</td>\n",
       "      <td>38.554903</td>\n",
       "    </tr>\n",
       "    <tr>\n",
       "      <th>25%</th>\n",
       "      <td>3.000000</td>\n",
       "      <td>2.000000</td>\n",
       "      <td>49.127377</td>\n",
       "    </tr>\n",
       "    <tr>\n",
       "      <th>50%</th>\n",
       "      <td>4.000000</td>\n",
       "      <td>3.000000</td>\n",
       "      <td>52.005075</td>\n",
       "    </tr>\n",
       "    <tr>\n",
       "      <th>75%</th>\n",
       "      <td>5.000000</td>\n",
       "      <td>4.000000</td>\n",
       "      <td>57.360305</td>\n",
       "    </tr>\n",
       "    <tr>\n",
       "      <th>max</th>\n",
       "      <td>8.000000</td>\n",
       "      <td>6.000000</td>\n",
       "      <td>70.394772</td>\n",
       "    </tr>\n",
       "  </tbody>\n",
       "</table>\n",
       "</div>"
      ],
      "text/plain": [
       "               GF          GA          CF\n",
       "count  100.000000  100.000000  100.000000\n",
       "mean     3.890000    2.620000   52.662782\n",
       "std      1.885056    1.637811    6.791164\n",
       "min      0.000000    0.000000   38.554903\n",
       "25%      3.000000    2.000000   49.127377\n",
       "50%      4.000000    3.000000   52.005075\n",
       "75%      5.000000    4.000000   57.360305\n",
       "max      8.000000    6.000000   70.394772"
      ]
     },
     "execution_count": 140,
     "metadata": {},
     "output_type": "execute_result"
    }
   ],
   "source": [
    "df3.describe()"
   ]
  },
  {
   "cell_type": "code",
   "execution_count": 141,
   "metadata": {},
   "outputs": [],
   "source": [
    "### create a simple data frame to compare the important statistics"
   ]
  },
  {
   "cell_type": "code",
   "execution_count": 143,
   "metadata": {},
   "outputs": [
    {
     "data": {
      "text/html": [
       "<div>\n",
       "<style scoped>\n",
       "    .dataframe tbody tr th:only-of-type {\n",
       "        vertical-align: middle;\n",
       "    }\n",
       "\n",
       "    .dataframe tbody tr th {\n",
       "        vertical-align: top;\n",
       "    }\n",
       "\n",
       "    .dataframe thead th {\n",
       "        text-align: right;\n",
       "    }\n",
       "</style>\n",
       "<table border=\"1\" class=\"dataframe\">\n",
       "  <thead>\n",
       "    <tr style=\"text-align: right;\">\n",
       "      <th></th>\n",
       "      <th>Stat</th>\n",
       "      <th>GF Rand</th>\n",
       "      <th>GF Real</th>\n",
       "      <th>GA Rand</th>\n",
       "      <th>GA Real</th>\n",
       "      <th>CF Rand</th>\n",
       "      <th>CF Real</th>\n",
       "    </tr>\n",
       "  </thead>\n",
       "  <tbody>\n",
       "    <tr>\n",
       "      <th>0</th>\n",
       "      <td>mean</td>\n",
       "      <td>3.890000</td>\n",
       "      <td>3.693694</td>\n",
       "      <td>2.620000</td>\n",
       "      <td>2.891892</td>\n",
       "      <td>52.662782</td>\n",
       "      <td>52.117117</td>\n",
       "    </tr>\n",
       "    <tr>\n",
       "      <th>1</th>\n",
       "      <td>std</td>\n",
       "      <td>1.885056</td>\n",
       "      <td>1.877100</td>\n",
       "      <td>1.637811</td>\n",
       "      <td>1.691429</td>\n",
       "      <td>6.791164</td>\n",
       "      <td>7.629201</td>\n",
       "    </tr>\n",
       "    <tr>\n",
       "      <th>2</th>\n",
       "      <td>min</td>\n",
       "      <td>0.000000</td>\n",
       "      <td>0.000000</td>\n",
       "      <td>0.000000</td>\n",
       "      <td>0.000000</td>\n",
       "      <td>38.554903</td>\n",
       "      <td>36.400000</td>\n",
       "    </tr>\n",
       "    <tr>\n",
       "      <th>3</th>\n",
       "      <td>max</td>\n",
       "      <td>8.000000</td>\n",
       "      <td>8.000000</td>\n",
       "      <td>7.000000</td>\n",
       "      <td>7.000000</td>\n",
       "      <td>70.394772</td>\n",
       "      <td>74.300000</td>\n",
       "    </tr>\n",
       "  </tbody>\n",
       "</table>\n",
       "</div>"
      ],
      "text/plain": [
       "   Stat   GF Rand   GF Real   GA Rand   GA Real    CF Rand    CF Real\n",
       "0  mean  3.890000  3.693694  2.620000  2.891892  52.662782  52.117117\n",
       "1   std  1.885056  1.877100  1.637811  1.691429   6.791164   7.629201\n",
       "2   min  0.000000  0.000000  0.000000  0.000000  38.554903  36.400000\n",
       "3   max  8.000000  8.000000  7.000000  7.000000  70.394772  74.300000"
      ]
     },
     "execution_count": 143,
     "metadata": {},
     "output_type": "execute_result"
    }
   ],
   "source": [
    "pd.DataFrame({'Stat':[\"mean\",\"std\",\"min\",\"max\"],'GF Rand':[3.89,1.885056,0.00,8.0],'GF Real':[3.693694,1.8771,0.00,8.0],'GA Rand':[2.62,1.637811,0.00,7.0],'GA Real':[2.891892,1.691429,0.00,7.0],'CF Rand':[52.662782,6.791164,38.554903,70.394772], 'CF Real':[52.117117,7.629201,36.40,74.30]})"
   ]
  },
  {
   "cell_type": "markdown",
   "metadata": {},
   "source": [
    "#### Random Data Set Conclusion"
   ]
  },
  {
   "cell_type": "markdown",
   "metadata": {},
   "source": [
    "The random data set did well as far as closely resembling the real data set. I am confident in using this to see how the variables relate to winning. "
   ]
  },
  {
   "cell_type": "markdown",
   "metadata": {},
   "source": [
    "### Important Note :"
   ]
  },
  {
   "cell_type": "markdown",
   "metadata": {},
   "source": [
    "The above statistic comparison table was generated on my first run of the data and 'hard copied' in order to make the conclusions of the random data set. Since it is a random data set, it is randomly generated and thus when it's run the next time, the numbers in the table above for the GF Rand, GA Rand and CF Rand columns will be different. So keep in mind that you must compare the new random numbers to the real numbers."
   ]
  },
  {
   "cell_type": "markdown",
   "metadata": {},
   "source": [
    "## How do the Variables Relate"
   ]
  },
  {
   "cell_type": "markdown",
   "metadata": {},
   "source": [
    "I wanted to look at this particular data set to see if I could tell if a team was more likely to win if they had attained certain levels in certain variables. ie if a team scores more than 3 goals, what are their chances of winning or if a team scores 3 goals and has Corsi % < 50 what are their chances of winning. <br>\n",
    "At first glance, Goals For and Goals Against seem obvious. If a team scores more goals than they allow, they are going to win. This seems to make them directly related to the probability of a team winning or not. <br>\n",
    "The NHL has a statistic that measures Goals For vs. Goals Against, and the name is simply Goal Differential (Diff).\n",
    "To see how scoring more Goals For vs Goals against relates to winning, we just need to look at last years final standings. (14). Every single team that made the playoffs (16teams out of 31 total teams) had more Goals For than Goals Against. There were 12 teams that had more Goals Against vs Goals For and they all failed to make the playoffs. So there is good evidence that when a team indeed scores more goals than they allow, their chances of winning are greater. Goals For and Goals Against can be attributed to different things. If a team has a great offense who have great puck possession, little turnovers and high shooting percentage, then their chances of scoring more increases. Inversely, if you have a great defense who don't spend alot of time in their own end and have an outstanding goalie who has a low goals against average, then their chances of winning increase.(15) <br>\n",
    "How are Goals For and Goals Against related. As in the example above regarding teams making the playoffs, if a team scores more than they allow, their chances of winning increases. However, a team can't just be one sided. If a team has a great offense but terrible defense and or goal tending, they might score lots of goals but that doesn't gaurantee winning. Evidence of this is last year's New York Islanders team. they scored 264 goals all year but did not make the playoffs. There  were 8 temas that made the Eastern Conference playoffs last year and the Islanders had more Goals For four of those 8 playoff teams. On the other side of this is the Columbus Blue Jackets also in the Eastern Conference. They only had 242 Goals For, the lowest of the 8 eastern Conference playoff teams, however, they only allowed 230 Goals Against which was second best in the entire 16 team Eastern Conference. <br>\n",
    "Goals For and Goals against are related to winning but how a team is structured to score goals and how they are structured to defend against goals is varied. If a team can find the right structure, their chances of winning are greatly increased. An example is the Tampa Bay Lightning. Last year they had the most wins in the entire league. They also had the most goals in the entire league and they fifth in the Eastern Conference in Goals Against. <br>\n",
    "Corsi% was a variable that interested me the most because I thought it a variable that gave a deatiled look at two different statistics in one number. The Corsi% is the total shots taken, which includes shots on goal, shots missed and shots blocked, divided by total shots taken plus the total shots given up. (CF% = CF/(CF + CA). There are two things that make Corsi % so valuable: it is highly repeatable (ie. if you know a team’s Corsi in one part of the season, you can predict its Corsi in their remaining games very well) and it is better than goals at predicting future goals (ie. if you know a team’s Corsi and its goal differential, you can get a more accurate prediction of the team’s future goal differential by using Corsi). (16)The Corsi For shows how many shots a team had on goal which some suggest is good evidence of puck possession. (17) Puck possession is a good indicator of how much time a team spends in the offensive zone. (18) But how does that relate to winning? <br>\n",
    "Well, to my surprise, it appears that the Corsi % is not a good indicator of winning games. Based on a study done by @pettigrew_stats on rinkstats.com. The study states \"The point of this post is to convince you that Corsi and Fenwick don’t do a particularly good job of predicting who will win hockey games, and they aren’t any better at this task than the traditional shots-on-goal statistic.\" (19) In a previous article, the author states that Fenwick, another advances hockey statistics and Corsi are not very good at predicting who wins hockey games in the NHL. (20). It also states that Corsi is no better than a simple shots on goal SOG statistic. <br>\n",
    "The research seems to back up the fact that Corsi% is not a very good indicator in predicting how successful a team is at winning. Looking at last years team Corsi% numbers is very revealing. The team with the highest Corsi% of 54.6% was the Carolina Hurricanes who failed to make the playoffs. Their goal differential was a minus 28 coincidently. In fact, 3 out of the 4 top Corsi% teams did not make the palyoffs last year. Besides Carolina, third and fourth on the list of highest Corsi% were the Calgary Flames (53.2%) and the Chicago Blackhawks (52.6%). (21) <br>\n",
    "I was disappointed but surprised at the same time regarding the Corsi% statistic. I thought I cam across a great variable that would lead to great insights of how to win in the NHL but in was not meant to be. \n"
   ]
  },
  {
   "cell_type": "code",
   "execution_count": null,
   "metadata": {},
   "outputs": [],
   "source": []
  },
  {
   "cell_type": "code",
   "execution_count": null,
   "metadata": {},
   "outputs": [],
   "source": []
  },
  {
   "cell_type": "code",
   "execution_count": null,
   "metadata": {},
   "outputs": [],
   "source": [
    "df3[\"WL\"] = df3.apply(lambda x: \"Win\"if x.GF > x.GA else (\"Tie\"if x.GF == x.GA else \"Loss\"),axis = 1)"
   ]
  },
  {
   "cell_type": "code",
   "execution_count": null,
   "metadata": {},
   "outputs": [],
   "source": []
  },
  {
   "cell_type": "code",
   "execution_count": null,
   "metadata": {},
   "outputs": [],
   "source": []
  },
  {
   "cell_type": "code",
   "execution_count": null,
   "metadata": {},
   "outputs": [],
   "source": []
  },
  {
   "cell_type": "code",
   "execution_count": null,
   "metadata": {},
   "outputs": [],
   "source": []
  },
  {
   "cell_type": "code",
   "execution_count": null,
   "metadata": {},
   "outputs": [],
   "source": []
  },
  {
   "cell_type": "code",
   "execution_count": null,
   "metadata": {},
   "outputs": [],
   "source": []
  },
  {
   "cell_type": "markdown",
   "metadata": {},
   "source": [
    "## References\n",
    "***\n",
    "1. https://thehockeywriters.com/traditional-statistics-vs-advanced-analytics/\n",
    "2. https://thehockeywriters.com/traditional-statistics-vs-advanced-analytics/\n",
    "3. https://www.nhl.com/lightning/news/statistical-analysis-helps-lightning-organization-navigate-free-agency/c-636255\n",
    "4. https://www.tampabay.com/blogs/lightning/2018/04/23/the-key-to-the-lightnings-success/\n",
    "5. https://thehockeywriters.com/traditional-statistics-vs-advanced-analytics/\n",
    "6. http://article.sapub.org/10.5923.j.sports.20140403.02.html\n",
    "7. http://article.sapub.org/10.5923.j.sports.20140403.02.html\n",
    "8. https://en.wikipedia.org/wiki/Corsi_(statistic)\n",
    "9. https://seaborn.pydata.org/generated/seaborn.distplot.html \n",
    "10. https://github.com/mwaskom/seaborn/issues/1392\n",
    "11. https://het.as.utexas.edu/HET/Software/Numpy/reference/generated/numpy.random.choice.html\n",
    "12. https://pandas.pydata.org/pandas-docs/stable/generated/pandas.DataFrame.describe.html\n",
    "13. https://pandas.pydata.org/pandas-docs/stable/generated/pandas.Series.value_counts.html\n",
    "14. https://www.nhl.com/standings/2017/wildcard\n",
    "15. https://howlinhockey.com/2011/12/24/goal-differential-why-it-matters-and-what-it-means/\n",
    "16. https://mapleleafsnation.com/2018/03/12/are-scoring-chances-better-than-corsi/ \n",
    "17. https://www.diebytheblade.com/2018/8/19/17749744/nhl-key-stats-to-success-and-how-the-buffalo-sabres-compare\n",
    "18. https://en.wikipedia.org/wiki/Corsi_(statistic)\n",
    "19. http://rinkstats.com/2014/05/corsi-and-fenwick-suck-or-why-we-should\n",
    "20. http://rinkstats.com/2013/12/why-popular-advanced-stats-are-bad-at\n",
    "21. https://www.hockey-reference.com/play-index/tpbp_finder.cgi?request=1&match=single&year_min=2018&year_max=2018&situation_id=ev&order_by=corsi_for&utm_source=direct&utm_medium=Share&utm_campaign=ShareTool#stats"
   ]
  },
  {
   "cell_type": "code",
   "execution_count": null,
   "metadata": {},
   "outputs": [],
   "source": []
  }
 ],
 "metadata": {
  "kernelspec": {
   "display_name": "Python 3",
   "language": "python",
   "name": "python3"
  },
  "language_info": {
   "codemirror_mode": {
    "name": "ipython",
    "version": 3
   },
   "file_extension": ".py",
   "mimetype": "text/x-python",
   "name": "python",
   "nbconvert_exporter": "python",
   "pygments_lexer": "ipython3",
   "version": "3.6.5"
  }
 },
 "nbformat": 4,
 "nbformat_minor": 2
}
