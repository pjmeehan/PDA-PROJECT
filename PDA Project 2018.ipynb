{
 "cells": [
  {
   "cell_type": "markdown",
   "metadata": {},
   "source": [
    "# Programming for Data Analysis Project 2018"
   ]
  },
  {
   "cell_type": "markdown",
   "metadata": {},
   "source": [
    "### Project Problem Statement :\n",
    "1. Choose a real world phenomenon that can be measured and for which you could collect at least one hundred data points across at least four different variables.\n",
    "2. Investigate the types of variables involved, their likely distributions, and their relationships with each other.\n",
    "3. Synthesise/simulte a data set as closely matching their properties as possible.\n",
    "4. Detail your research and implement the simulation in a Jupyter mnotebook - the data itself can simply be displayed in an output cell within the notebook."
   ]
  },
  {
   "cell_type": "markdown",
   "metadata": {},
   "source": [
    "### Real World Phenomenon\n",
    "***"
   ]
  },
  {
   "cell_type": "markdown",
   "metadata": {},
   "source": [
    "I want to choose something that I am interested in so it will contain my interest throughout the whole project. Initially I'm thinking of my favourite National Hockey League team, the New York Rangers. The Rangers are currently going through a rebuild and I was wondering what are some ascpects of a team that wins more than others and what are some variables that lead them to their winning ways. I would like to see the results for a couple of reasons, 1. to see if the Rangers are heading in the right direction or might they need something(new player, new offensive strategy, new defensive strategy, better goaltending etc) to help them get there and 2. to see if results could be used as a predictive tool. Ie. If the Rangers score at least 3 goals and have a save percentage higher than 90%, what are their chances of winning?\n",
    "For my variables, I want to focus on wins. What other variables will I need to look at that are related to winning. I suppose there there are many variables just as in other sport.\n"
   ]
  },
  {
   "cell_type": "markdown",
   "metadata": {},
   "source": [
    "### Analytics in Hockey\n",
    "***\n",
    "Traditional statistics have always played a significant part in the analysis of teams and players in the NHL. Statistical data influences decisions made by hockey executives regarding draft picks, trades, and contract negotiations. Coaches are dependent upon this information to determine game day line-ups, line matchups, and situational decisions during a game. (1)\n",
    "\n",
    "Over the last 10 years, the incorporation of advanced hockey analytics in hockey operations decision-making has taken the league by storm. (2)\n",
    "\n",
    "Data analytics in hockey is becoming ever more crucial for teams that want a cutting edge or step above. One such team utilizing these tools are the Tampa Bay Lighning of the National Hockey League. The man helping the Tampa Bay Lightning with the analytics is Michael Peterson, Director of Hockey Analytics.\n",
    "\n",
    "His focus is on the development of advanced statistical metrics that can tell the true value of a player and his production rather than traditional stats like goals, assists, and hits, which can be subjective and ultimately deceptive in judging a player's effectiveness.(3)\n",
    "\n",
    "The method seems to be working.The Tampa Bay Lightning have had a great run over the last few years and it would have been better save a few crucial injuries. A playoff appearance in 2014. A trip to the Stanley Cup final in 2015. A return to the Eastern Conference final in 2016. A near-miss of the postseason in 2017, another return to the Conference finals in 2018 and currently leading the league in wins this season. (4)\n",
    "\n",
    "Hockey is adapting to the times. Not so much as forgoing traditional methods of scouting, watching video and reading box scores,\n",
    "but understanding that analytics has it's part in aiding a team with crucial information to make better decisions on and off the ice. It could mean anything from finding a \"better way to enter the zone\" to helping pick the best player that fits their needs in the draft.\n",
    "\n",
    "A great quote on ignoring analytics in sports comes from Arik Parnass from the Earl Jessiman article \"Traditional Statistics vs. Advanced Analytics: Making Better Business Decisions\" on thehockeywriters.com website. \" Dismissing analytics means settling for an old method of evaluation and using an inefficient business practice.” (5)\n",
    "\n",
    "\n",
    "\n"
   ]
  },
  {
   "cell_type": "code",
   "execution_count": null,
   "metadata": {},
   "outputs": [],
   "source": []
  },
  {
   "cell_type": "code",
   "execution_count": null,
   "metadata": {},
   "outputs": [],
   "source": []
  },
  {
   "cell_type": "code",
   "execution_count": null,
   "metadata": {},
   "outputs": [],
   "source": []
  },
  {
   "cell_type": "code",
   "execution_count": null,
   "metadata": {},
   "outputs": [],
   "source": []
  },
  {
   "cell_type": "code",
   "execution_count": null,
   "metadata": {},
   "outputs": [],
   "source": []
  },
  {
   "cell_type": "code",
   "execution_count": null,
   "metadata": {},
   "outputs": [],
   "source": []
  },
  {
   "cell_type": "code",
   "execution_count": null,
   "metadata": {},
   "outputs": [],
   "source": []
  },
  {
   "cell_type": "code",
   "execution_count": null,
   "metadata": {},
   "outputs": [],
   "source": []
  },
  {
   "cell_type": "code",
   "execution_count": null,
   "metadata": {},
   "outputs": [],
   "source": []
  },
  {
   "cell_type": "code",
   "execution_count": null,
   "metadata": {},
   "outputs": [],
   "source": []
  },
  {
   "cell_type": "code",
   "execution_count": null,
   "metadata": {},
   "outputs": [],
   "source": []
  },
  {
   "cell_type": "code",
   "execution_count": null,
   "metadata": {},
   "outputs": [],
   "source": []
  },
  {
   "cell_type": "code",
   "execution_count": null,
   "metadata": {},
   "outputs": [],
   "source": []
  },
  {
   "cell_type": "code",
   "execution_count": null,
   "metadata": {},
   "outputs": [],
   "source": []
  },
  {
   "cell_type": "code",
   "execution_count": null,
   "metadata": {},
   "outputs": [],
   "source": []
  },
  {
   "cell_type": "code",
   "execution_count": null,
   "metadata": {},
   "outputs": [],
   "source": []
  },
  {
   "cell_type": "code",
   "execution_count": null,
   "metadata": {},
   "outputs": [],
   "source": []
  },
  {
   "cell_type": "code",
   "execution_count": null,
   "metadata": {},
   "outputs": [],
   "source": []
  },
  {
   "cell_type": "code",
   "execution_count": null,
   "metadata": {},
   "outputs": [],
   "source": []
  },
  {
   "cell_type": "markdown",
   "metadata": {},
   "source": [
    "## References\n",
    "***\n",
    "1. https://thehockeywriters.com/traditional-statistics-vs-advanced-analytics/\n",
    "2. https://thehockeywriters.com/traditional-statistics-vs-advanced-analytics/\n",
    "3. https://www.nhl.com/lightning/news/statistical-analysis-helps-lightning-organization-navigate-free-agency/c-636255\n",
    "4. https://www.tampabay.com/blogs/lightning/2018/04/23/the-key-to-the-lightnings-success/\n",
    "5. https://thehockeywriters.com/traditional-statistics-vs-advanced-analytics/"
   ]
  }
 ],
 "metadata": {
  "kernelspec": {
   "display_name": "Python 3",
   "language": "python",
   "name": "python3"
  },
  "language_info": {
   "codemirror_mode": {
    "name": "ipython",
    "version": 3
   },
   "file_extension": ".py",
   "mimetype": "text/x-python",
   "name": "python",
   "nbconvert_exporter": "python",
   "pygments_lexer": "ipython3",
   "version": "3.6.5"
  }
 },
 "nbformat": 4,
 "nbformat_minor": 2
}
