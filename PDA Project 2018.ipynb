{
 "cells": [
  {
   "cell_type": "markdown",
   "metadata": {},
   "source": [
    "# Programming for Data Analysis Project 2018\n",
    "***"
   ]
  },
  {
   "cell_type": "markdown",
   "metadata": {},
   "source": [
    "### Project Problem Statement :\n",
    "1. Choose a real world phenomenon that can be measured and for which you could collect at least one hundred data points across at least four different variables.\n",
    "2. Investigate the types of variables involved, their likely distributions, and their relationships with each other.\n",
    "3. Synthesise/simulte a data set as closely matching their properties as possible.\n",
    "4. Detail your research and implement the simulation in a Jupyter mnotebook - the data itself can simply be displayed in an output cell within the notebook."
   ]
  },
  {
   "cell_type": "markdown",
   "metadata": {},
   "source": [
    "### Real World Phenomenon\n",
    "***"
   ]
  },
  {
   "cell_type": "markdown",
   "metadata": {},
   "source": [
    "I want to choose something that I am interested in. Initially I thought of my favourite National Hockey League team, the New York Rangers. The Rangers are currently going through a rebuild and I was wondering what are some ascpects of a consistently good team that wins more than others and what are some variables that lead them to their winning ways. I would like to see the results for a couple of reasons, 1. to see if the Rangers are heading in the right direction or might they need something(new player, new offensive strategy, new defensive strategy, better goaltending etc) to help them get there and 2. to see if results could be used as a predictive tool. ie. If the Rangers score at least 3 goals and have a save percentage higher than 90%, what are their chances of winning?\n",
    "\n"
   ]
  },
  {
   "cell_type": "markdown",
   "metadata": {},
   "source": [
    "### Analytics in Hockey\n",
    "***\n",
    "Traditional statistics have always played a significant part in the analysis of teams and players in the NHL. Statistical data influences decisions made by hockey executives regarding draft picks, trades, and contract negotiations. Coaches are dependent upon this information to determine game day line-ups, line matchups, and situational decisions during a game. (1)\n",
    "\n",
    "Over the last 10 years, the incorporation of advanced hockey analytics in hockey operations decision-making has taken the league by storm. (2)\n",
    "\n",
    "Data analytics in hockey is becoming ever more crucial for teams that want a cutting edge or step above. One such team utilizing these tools are the Tampa Bay Lighning of the National Hockey League. The man helping the Tampa Bay Lightning with the analytics is Michael Peterson, Director of Hockey Analytics.\n",
    "\n",
    "His focus is on the development of advanced statistical metrics that can tell the true value of a player and his production rather than traditional stats like goals, assists, and hits, which can be subjective and ultimately deceptive in judging a player's effectiveness.(3)\n",
    "\n",
    "The method seems to be working.The Tampa Bay Lightning have had a great run over the last few years and it would have been better save a few crucial injuries. A playoff appearance in 2014. A trip to the Stanley Cup final in 2015. A return to the Eastern Conference final in 2016. A near-miss of the postseason in 2017, another return to the Conference finals in 2018 and currently leading the league in wins this season. (4)\n",
    "\n",
    "Hockey is adapting to the times. Not so much as forgoing traditional methods of scouting, watching video and reading box scores,\n",
    "but understanding that analytics has it's part in aiding a team with crucial information to make better decisions on and off the ice. It could mean anything from finding a \"better way to enter the zone\" to helping pick the best player, that fits their needs, in the draft.\n",
    "\n",
    "A great quote on ignoring analytics in sports comes from Arik Parnass from the Earl Jessiman article \"Traditional Statistics vs. Advanced Analytics: Making Better Business Decisions\" on thehockeywriters.com website. \" Dismissing analytics means settling for an old method of evaluation and using an inefficient business practice.” (5)\n",
    "\n",
    "\n",
    "\n"
   ]
  },
  {
   "cell_type": "markdown",
   "metadata": {},
   "source": [
    "## Variables\n",
    "***\n",
    "There are many variables in hockey that can be looked at as contributing to whether a team wins or losses a certain game. \n",
    "One such research paper, \"An Analysis of Factors Contributing to Wins in the National Hockey League\" written by Joe Roith and Rhonda Magel, looked at 60 variables to estimate the probability of a team's chances of winning. (6) They determined that the most important variables were goals scored, goals against and takeaways. (7)\n",
    "\n",
    "When I first started this project, I had very similar thoughts to those of Roith and Magel. I wanted to see what variables would most likely determine if a team in the NHL wins a game. Similarly to their research, I wanted to use goals scored and goals against. Unlike their research, I was thinking of using goalies save percentage while they used takeaways.\n",
    "\n",
    "After reading articles and scouring the internet for research (that's how I came upon Roith and Magel's paper), I came across a variable I was not entirely familiar with. It's called the Corsi (statistic). It's defined as an advanced statistic used in the National Hockey League to measure shot attempt differential while at even strength play. This includes shots on goal, missed shots on goal, and shots that were blocked minus the same shot attempts against your own team. (8)\n",
    "\n",
    "I decided that I wanted to use this variable along with goals for and goals against to go along with my most important variable which was whether a team wins or loses.\n",
    "\n",
    "Let's take a look at the variables I will use :\n",
    "\n",
    "*Wins/Losses* (WL) - This is simple. At the end of the game (regulation or overtime) did the team win or lose.\n",
    "Wins is the variable I'm most interested in. Obviuosly there are so many factors that determine if a team has a shot at winning, including injuries, is the game home or away, is it the second game of a back to back, did they arrive late from poor travel conditions, along with many more others.T\n",
    "\n",
    "*Goals for* (GF) - the total number of goals the team scored during the game.\n",
    "Goals for also has many factors, such as injuries, whether your team was down a man a few times from penalties, fatigue or great goal tending from the other team amongst many others. At the end of the day if you don't score more goals than your opponent, you lose.\n",
    "\n",
    "*Goals against* (GA) - the total number of goals a team gives up during the game.\n",
    "The same factors that affect \"goals for\" also affect goals against. Was the team killing penalties all night and did not get to produce much offense? Was your goal tending bad? Or was puck possession not good enough?\n",
    "\n",
    "*Corsi %* (CF) - Is the total shots taken, which includes shots on goal, shots missed and shots blocked, divided by total shots taken plus the total shots given up. (CF% = CF/(CF + CA). It can be expressed as a whole number or a percentage. It is also used to approximate the time of possession, which is the amount of time a team controls the puck.\n",
    "\n",
    "My data set is based on the past 111 games for the Tampa Bay Lightning. I've included the data set in my jupyter notebook for the purpose of determining the distributions of my variables and for comparing the descriptive statistics of each data set.\n",
    "\n",
    "Note :\n",
    "Wins/Losses (WL) will be represented by categorigal variable.\n",
    "GF and GA (GF) & (GA) will be represented by non negative integers.\n",
    "CF% (CF) will be represented as non negative real numbers with two decimal places."
   ]
  },
  {
   "cell_type": "markdown",
   "metadata": {},
   "source": [
    "## Determining the Distributions of My Variables\n",
    "***"
   ]
  },
  {
   "cell_type": "markdown",
   "metadata": {},
   "source": [
    "To determine the distributions of my variables for my random data set, I first need to know what the distributions are for the variables in the 'real' data set. To do this, I will create histograms on the 'real' data set to see what the distributions look like and then determine which distributions fit best for the variables in my random data set.\n",
    "\n",
    "Since my first variable only has two outcomes, win or lose, it is by definition a binomial distribution. So, I will only use histograms on the GF, GA and CF variables to determine their distributions.\n"
   ]
  },
  {
   "cell_type": "code",
   "execution_count": 189,
   "metadata": {},
   "outputs": [],
   "source": [
    "### I will import the libraries I may use for the code and the histograms I will use to help determine the distribution\n",
    "### types for my variables."
   ]
  },
  {
   "cell_type": "code",
   "execution_count": 190,
   "metadata": {},
   "outputs": [],
   "source": [
    "import numpy as np\n",
    "import matplotlib.pyplot as plt\n",
    "import pandas as pd\n",
    "import seaborn as sns"
   ]
  },
  {
   "cell_type": "code",
   "execution_count": 191,
   "metadata": {},
   "outputs": [],
   "source": [
    "### CSV module is a built-in function that allows Python to parse these csv types of files.\n",
    "### use the import function to import the 'real' data set."
   ]
  },
  {
   "cell_type": "code",
   "execution_count": 192,
   "metadata": {},
   "outputs": [],
   "source": [
    "import csv"
   ]
  },
  {
   "cell_type": "code",
   "execution_count": 193,
   "metadata": {},
   "outputs": [],
   "source": [
    "### use open function to open the file with the data."
   ]
  },
  {
   "cell_type": "code",
   "execution_count": 194,
   "metadata": {},
   "outputs": [],
   "source": [
    "a = open(\"realdata.csv\")"
   ]
  },
  {
   "cell_type": "code",
   "execution_count": 195,
   "metadata": {},
   "outputs": [],
   "source": [
    "### The reader object allows iteration, much like a regular file object does. This allows for iteration over each row \n",
    "### in the reader object and the print out of the line of data, minus the commas. This works because each row is a list\n",
    "### and we can join each element in the list together, forming one long string.[6]\n",
    "### This is done for the complete dataset.\n",
    "### df = pd.read_csv(\"realdata.csv\") creates the data frame for the 'real' data set.\n",
    "###The df.head() function gives us the first five lines of the data set."
   ]
  },
  {
   "cell_type": "code",
   "execution_count": 196,
   "metadata": {},
   "outputs": [
    {
     "data": {
      "text/html": [
       "<div>\n",
       "<style scoped>\n",
       "    .dataframe tbody tr th:only-of-type {\n",
       "        vertical-align: middle;\n",
       "    }\n",
       "\n",
       "    .dataframe tbody tr th {\n",
       "        vertical-align: top;\n",
       "    }\n",
       "\n",
       "    .dataframe thead th {\n",
       "        text-align: right;\n",
       "    }\n",
       "</style>\n",
       "<table border=\"1\" class=\"dataframe\">\n",
       "  <thead>\n",
       "    <tr style=\"text-align: right;\">\n",
       "      <th></th>\n",
       "      <th>GP</th>\n",
       "      <th>W/L</th>\n",
       "      <th>GF</th>\n",
       "      <th>GA</th>\n",
       "      <th>CF</th>\n",
       "      <th>CA</th>\n",
       "      <th>CF%</th>\n",
       "    </tr>\n",
       "  </thead>\n",
       "  <tbody>\n",
       "    <tr>\n",
       "      <th>0</th>\n",
       "      <td>1</td>\n",
       "      <td>W</td>\n",
       "      <td>5</td>\n",
       "      <td>3</td>\n",
       "      <td>34</td>\n",
       "      <td>55</td>\n",
       "      <td>38.2</td>\n",
       "    </tr>\n",
       "    <tr>\n",
       "      <th>1</th>\n",
       "      <td>2</td>\n",
       "      <td>L</td>\n",
       "      <td>4</td>\n",
       "      <td>5</td>\n",
       "      <td>32</td>\n",
       "      <td>56</td>\n",
       "      <td>36.4</td>\n",
       "    </tr>\n",
       "    <tr>\n",
       "      <th>2</th>\n",
       "      <td>3</td>\n",
       "      <td>W</td>\n",
       "      <td>4</td>\n",
       "      <td>3</td>\n",
       "      <td>60</td>\n",
       "      <td>34</td>\n",
       "      <td>63.8</td>\n",
       "    </tr>\n",
       "    <tr>\n",
       "      <th>3</th>\n",
       "      <td>4</td>\n",
       "      <td>W</td>\n",
       "      <td>5</td>\n",
       "      <td>4</td>\n",
       "      <td>50</td>\n",
       "      <td>45</td>\n",
       "      <td>52.6</td>\n",
       "    </tr>\n",
       "    <tr>\n",
       "      <th>4</th>\n",
       "      <td>5</td>\n",
       "      <td>W</td>\n",
       "      <td>2</td>\n",
       "      <td>1</td>\n",
       "      <td>58</td>\n",
       "      <td>38</td>\n",
       "      <td>60.4</td>\n",
       "    </tr>\n",
       "  </tbody>\n",
       "</table>\n",
       "</div>"
      ],
      "text/plain": [
       "   GP W/L  GF  GA  CF  CA   CF%\n",
       "0   1   W   5   3  34  55  38.2\n",
       "1   2   L   4   5  32  56  36.4\n",
       "2   3   W   4   3  60  34  63.8\n",
       "3   4   W   5   4  50  45  52.6\n",
       "4   5   W   2   1  58  38  60.4"
      ]
     },
     "execution_count": 196,
     "metadata": {},
     "output_type": "execute_result"
    }
   ],
   "source": [
    "csv_a=csv.reader(a)\n",
    "df = pd.read_csv(\"realdata.csv\")\n",
    "df.head()"
   ]
  },
  {
   "cell_type": "markdown",
   "metadata": {},
   "source": [
    "The real data headings are GP = Games Played, W/L = win or Loss, GF = Goals For, GA = Goals Against, CF = Corsi For, CA = Corsi against and CF% = CF / (CF + CA). My random data set will only look at W/L, GF, GA and CF%. I will call these WL, GF, GA and CF respectively."
   ]
  },
  {
   "cell_type": "code",
   "execution_count": 197,
   "metadata": {},
   "outputs": [],
   "source": [
    "### I will use the distplot() function from the Seaborn library to plot the histograms for the variables GF, GA and CF%.\n",
    "### The distplot() function combines the matplotlib hist function (with automatic calculation of a good default bin size)\n",
    "### with the seaborn kdeplot(). (9)"
   ]
  },
  {
   "cell_type": "markdown",
   "metadata": {},
   "source": [
    "#### Goals For (GF) Histogram on  'Real' Data Set\n",
    "***"
   ]
  },
  {
   "cell_type": "code",
   "execution_count": 198,
   "metadata": {},
   "outputs": [
    {
     "name": "stderr",
     "output_type": "stream",
     "text": [
      "C:\\Users\\patri\\Anaconda3\\lib\\site-packages\\matplotlib\\axes\\_axes.py:6462: UserWarning: The 'normed' kwarg is deprecated, and has been replaced by the 'density' kwarg.\n",
      "  warnings.warn(\"The 'normed' kwarg is deprecated, and has been \"\n"
     ]
    },
    {
     "data": {
      "text/plain": [
       "<matplotlib.axes._subplots.AxesSubplot at 0x2692d6b6da0>"
      ]
     },
     "execution_count": 198,
     "metadata": {},
     "output_type": "execute_result"
    },
    {
     "data": {
      "image/png": "[encoded data removed]",
      "text/plain": [
       "<Figure size 432x288 with 1 Axes>"
      ]
     },
     "metadata": {},
     "output_type": "display_data"
    }
   ],
   "source": [
    "sns.distplot(df[\"GF\"])"
   ]
  },
  {
   "cell_type": "markdown",
   "metadata": {},
   "source": [
    "It's not a perfect normal distribution but very close, so I will use a normal distribution for Goals For."
   ]
  },
  {
   "cell_type": "code",
   "execution_count": 199,
   "metadata": {},
   "outputs": [],
   "source": [
    "### Note : the error maessage is common and a \"patch\" is supposed to be put through to correct. (10)"
   ]
  },
  {
   "cell_type": "markdown",
   "metadata": {},
   "source": [
    "#### Goals Against (GA) Histogram on 'Real' Data Set\n",
    "***"
   ]
  },
  {
   "cell_type": "code",
   "execution_count": 200,
   "metadata": {},
   "outputs": [
    {
     "name": "stderr",
     "output_type": "stream",
     "text": [
      "C:\\Users\\patri\\Anaconda3\\lib\\site-packages\\matplotlib\\axes\\_axes.py:6462: UserWarning: The 'normed' kwarg is deprecated, and has been replaced by the 'density' kwarg.\n",
      "  warnings.warn(\"The 'normed' kwarg is deprecated, and has been \"\n"
     ]
    },
    {
     "data": {
      "text/plain": [
       "<matplotlib.axes._subplots.AxesSubplot at 0x2692d71cf98>"
      ]
     },
     "execution_count": 200,
     "metadata": {},
     "output_type": "execute_result"
    },
    {
     "data": {
      "image/png": "[encoded data removed]",
      "text/plain": [
       "<Figure size 432x288 with 1 Axes>"
      ]
     },
     "metadata": {},
     "output_type": "display_data"
    }
   ],
   "source": [
    "sns.distplot(df[\"GA\"])"
   ]
  },
  {
   "cell_type": "markdown",
   "metadata": {},
   "source": [
    "Again, it's not a perfect normal distribution but very close, so I will use a normal distribution for Goals Against."
   ]
  },
  {
   "cell_type": "markdown",
   "metadata": {},
   "source": [
    "####  Corsi For % (CF%) Histogram on 'Real' Data Set\n",
    "***"
   ]
  },
  {
   "cell_type": "code",
   "execution_count": 201,
   "metadata": {},
   "outputs": [
    {
     "name": "stderr",
     "output_type": "stream",
     "text": [
      "C:\\Users\\patri\\Anaconda3\\lib\\site-packages\\matplotlib\\axes\\_axes.py:6462: UserWarning: The 'normed' kwarg is deprecated, and has been replaced by the 'density' kwarg.\n",
      "  warnings.warn(\"The 'normed' kwarg is deprecated, and has been \"\n"
     ]
    },
    {
     "data": {
      "text/plain": [
       "<matplotlib.axes._subplots.AxesSubplot at 0x2692d791dd8>"
      ]
     },
     "execution_count": 201,
     "metadata": {},
     "output_type": "execute_result"
    },
    {
     "data": {
      "image/png": "[encoded data removed]",
      "text/plain": [
       "<Figure size 432x288 with 1 Axes>"
      ]
     },
     "metadata": {},
     "output_type": "display_data"
    }
   ],
   "source": [
    "sns.distplot(df[\"CF%\"])"
   ]
  },
  {
   "cell_type": "markdown",
   "metadata": {},
   "source": [
    "Lastly, The CF% distribution looks like a normal distribution as well."
   ]
  },
  {
   "cell_type": "markdown",
   "metadata": {},
   "source": [
    "The GF, GA and CF variables appear to follow a normal distribution as shown in the histograms above. I will apply a normal distribution to these three variables."
   ]
  },
  {
   "cell_type": "markdown",
   "metadata": {},
   "source": [
    "# The Model and the Creation of the Random Data Set\n",
    "***"
   ]
  },
  {
   "cell_type": "markdown",
   "metadata": {},
   "source": [
    "To create the model for my data set, I will use the random() function from the NumPy library. "
   ]
  },
  {
   "cell_type": "markdown",
   "metadata": {},
   "source": [
    "For the individual data sets, I will use two different random() functions : random.choice() and random.normal().\n",
    "I will use the random.choice() function for the WL, GF and GA data sets. First I will create an array for the data \n",
    "in each set. Then, I will use that array in the random.choice function() to create a data set of size equal to 100 with given probabilities of each element in the data set.\n",
    "I chose the random.choice function for three reasons, 1. it genereates a random sample for a 1 dimension array while \n",
    "allowing for both uniform and non uniform distributions 2. it allows to assign specific probability to each element\n",
    "in the data set and 3. it works with integers.\n",
    "\n",
    "I will use the random.normal() function on the CF data set because it gives me a uniform distribution using floats."
   ]
  },
  {
   "cell_type": "code",
   "execution_count": 202,
   "metadata": {},
   "outputs": [],
   "source": [
    "### numpy.random.choice(a, size=None, replace=True, p=None) (11)\n",
    "\n",
    "### Parameters:\t\n",
    "### a : 1-D array-like or int\n",
    "###    If an ndarray, a random sample is generated from its elements. If an int, the random sample is generated as if a was np.arange(n)\n",
    "### size : int or tuple of ints, optional\n",
    "###    Output shape. If the given shape is, e.g., (m, n, k), then m * n * k samples are drawn. Default is None, in which case a single value is returned.\n",
    "### replace : boolean, optional\n",
    "###    Whether the sample is with or without replacement\n",
    "### p : 1-D array-like, optional\n",
    "###    The probabilities associated with each entry in a. If not given the sample assumes a uniform distribution over all entries in a.\n",
    "\n",
    "### Returns:\t\n",
    "### samples : 1-D ndarray, shape (size,)\n",
    "### The generated random samples\n"
   ]
  },
  {
   "cell_type": "markdown",
   "metadata": {},
   "source": [
    "Since I will be assigning probabilities to the individual elements in each of the four variables, I first must find out what those probabilities are by using the describe() and value_counts() functions from the Pandas library. "
   ]
  },
  {
   "cell_type": "code",
   "execution_count": 203,
   "metadata": {},
   "outputs": [],
   "source": [
    "### DataFrame.describe(percentiles=None, include=None, exclude=None)[source] (12)\n",
    "\n",
    "### Generates descriptive statistics that summarize the central tendency, dispersion and shape of a dataset’s distribution,\n",
    "### excluding NaN values.\n",
    "### Analyzes both numeric and object series, as well as DataFrame column sets of mixed data types. The output will\n",
    "### vary depending on what is provided. Refer to the notes below for more detail."
   ]
  },
  {
   "cell_type": "code",
   "execution_count": 204,
   "metadata": {},
   "outputs": [],
   "source": [
    "### Series.value_counts(normalize=False, sort=True, ascending=False, bins=None, dropna=True)[source] (13)\n",
    "\n",
    "### Returns object containing counts of unique values.\n",
    "### The resulting object will be in descending order so that the first element is the most frequently-occurring element.\n",
    "### Excludes NA values by default."
   ]
  },
  {
   "cell_type": "markdown",
   "metadata": {},
   "source": [
    "#### Win / Loss (WL) Variable"
   ]
  },
  {
   "cell_type": "markdown",
   "metadata": {},
   "source": [
    "For the Win/Loss variable, we need to find the percentage of games won. This can be accomplished by using the describe() function on the real data set."
   ]
  },
  {
   "cell_type": "code",
   "execution_count": 205,
   "metadata": {},
   "outputs": [
    {
     "data": {
      "text/html": [
       "<div>\n",
       "<style scoped>\n",
       "    .dataframe tbody tr th:only-of-type {\n",
       "        vertical-align: middle;\n",
       "    }\n",
       "\n",
       "    .dataframe tbody tr th {\n",
       "        vertical-align: top;\n",
       "    }\n",
       "\n",
       "    .dataframe thead th {\n",
       "        text-align: right;\n",
       "    }\n",
       "</style>\n",
       "<table border=\"1\" class=\"dataframe\">\n",
       "  <thead>\n",
       "    <tr style=\"text-align: right;\">\n",
       "      <th></th>\n",
       "      <th>W/L</th>\n",
       "    </tr>\n",
       "  </thead>\n",
       "  <tbody>\n",
       "    <tr>\n",
       "      <th>count</th>\n",
       "      <td>111</td>\n",
       "    </tr>\n",
       "    <tr>\n",
       "      <th>unique</th>\n",
       "      <td>2</td>\n",
       "    </tr>\n",
       "    <tr>\n",
       "      <th>top</th>\n",
       "      <td>W</td>\n",
       "    </tr>\n",
       "    <tr>\n",
       "      <th>freq</th>\n",
       "      <td>75</td>\n",
       "    </tr>\n",
       "  </tbody>\n",
       "</table>\n",
       "</div>"
      ],
      "text/plain": [
       "        W/L\n",
       "count   111\n",
       "unique    2\n",
       "top       W\n",
       "freq     75"
      ]
     },
     "execution_count": 205,
     "metadata": {},
     "output_type": "execute_result"
    }
   ],
   "source": [
    "df.describe(include=[np.object])"
   ]
  },
  {
   "cell_type": "markdown",
   "metadata": {},
   "source": [
    "From the above descriptive statistic, we know that win (W) has a frequency of 75 and count (total games played) is 111. This means that out of the 111 games, Tampa Bay won 75 times. This is a winning percentage of 67.567567.I will round it to 67.5%."
   ]
  },
  {
   "cell_type": "code",
   "execution_count": 206,
   "metadata": {},
   "outputs": [],
   "source": [
    "### define a simple array of 'Win' or 'Loss'"
   ]
  },
  {
   "cell_type": "code",
   "execution_count": 207,
   "metadata": {},
   "outputs": [],
   "source": [
    "WinLoss_arr = ['Win', 'Loss']"
   ]
  },
  {
   "cell_type": "code",
   "execution_count": 208,
   "metadata": {},
   "outputs": [],
   "source": [
    "### The array is WinLoss_arr, our size =100, and our probabilities = .675 for 'Win' and .325 for 'Loss'. Now just\n",
    "### need to plug these into the random.choice() function."
   ]
  },
  {
   "cell_type": "code",
   "execution_count": 209,
   "metadata": {},
   "outputs": [],
   "source": [
    "WL = np.random.choice(WinLoss_arr, 100, p=[.675, .325])"
   ]
  },
  {
   "cell_type": "markdown",
   "metadata": {},
   "source": [
    "#### Goals For (GF) variable"
   ]
  },
  {
   "cell_type": "markdown",
   "metadata": {},
   "source": [
    "First, I will use the describe() fuction for the GF, GA and CF% variables to attain the descriptive statistics. The numbers I am interested are the standard deviation, mean, min and max. I need the min and max for GF and GA because this allows me to see what is the lowest and highest goals scored for and against.  "
   ]
  },
  {
   "cell_type": "code",
   "execution_count": 210,
   "metadata": {},
   "outputs": [
    {
     "data": {
      "text/html": [
       "<div>\n",
       "<style scoped>\n",
       "    .dataframe tbody tr th:only-of-type {\n",
       "        vertical-align: middle;\n",
       "    }\n",
       "\n",
       "    .dataframe tbody tr th {\n",
       "        vertical-align: top;\n",
       "    }\n",
       "\n",
       "    .dataframe thead th {\n",
       "        text-align: right;\n",
       "    }\n",
       "</style>\n",
       "<table border=\"1\" class=\"dataframe\">\n",
       "  <thead>\n",
       "    <tr style=\"text-align: right;\">\n",
       "      <th></th>\n",
       "      <th>GP</th>\n",
       "      <th>GF</th>\n",
       "      <th>GA</th>\n",
       "      <th>CF</th>\n",
       "      <th>CA</th>\n",
       "      <th>CF%</th>\n",
       "    </tr>\n",
       "  </thead>\n",
       "  <tbody>\n",
       "    <tr>\n",
       "      <th>count</th>\n",
       "      <td>111.000000</td>\n",
       "      <td>111.000000</td>\n",
       "      <td>111.000000</td>\n",
       "      <td>111.000000</td>\n",
       "      <td>111.000000</td>\n",
       "      <td>111.000000</td>\n",
       "    </tr>\n",
       "    <tr>\n",
       "      <th>mean</th>\n",
       "      <td>56.000000</td>\n",
       "      <td>3.693694</td>\n",
       "      <td>2.891892</td>\n",
       "      <td>49.855856</td>\n",
       "      <td>45.909910</td>\n",
       "      <td>52.117117</td>\n",
       "    </tr>\n",
       "    <tr>\n",
       "      <th>std</th>\n",
       "      <td>32.186954</td>\n",
       "      <td>1.877100</td>\n",
       "      <td>1.691429</td>\n",
       "      <td>9.589622</td>\n",
       "      <td>9.749172</td>\n",
       "      <td>7.629201</td>\n",
       "    </tr>\n",
       "    <tr>\n",
       "      <th>min</th>\n",
       "      <td>1.000000</td>\n",
       "      <td>0.000000</td>\n",
       "      <td>0.000000</td>\n",
       "      <td>27.000000</td>\n",
       "      <td>18.000000</td>\n",
       "      <td>36.400000</td>\n",
       "    </tr>\n",
       "    <tr>\n",
       "      <th>25%</th>\n",
       "      <td>28.500000</td>\n",
       "      <td>2.000000</td>\n",
       "      <td>2.000000</td>\n",
       "      <td>44.000000</td>\n",
       "      <td>38.000000</td>\n",
       "      <td>47.050000</td>\n",
       "    </tr>\n",
       "    <tr>\n",
       "      <th>50%</th>\n",
       "      <td>56.000000</td>\n",
       "      <td>4.000000</td>\n",
       "      <td>3.000000</td>\n",
       "      <td>49.000000</td>\n",
       "      <td>46.000000</td>\n",
       "      <td>52.500000</td>\n",
       "    </tr>\n",
       "    <tr>\n",
       "      <th>75%</th>\n",
       "      <td>83.500000</td>\n",
       "      <td>5.000000</td>\n",
       "      <td>4.000000</td>\n",
       "      <td>56.000000</td>\n",
       "      <td>52.000000</td>\n",
       "      <td>57.450000</td>\n",
       "    </tr>\n",
       "    <tr>\n",
       "      <th>max</th>\n",
       "      <td>111.000000</td>\n",
       "      <td>8.000000</td>\n",
       "      <td>7.000000</td>\n",
       "      <td>76.000000</td>\n",
       "      <td>70.000000</td>\n",
       "      <td>74.300000</td>\n",
       "    </tr>\n",
       "  </tbody>\n",
       "</table>\n",
       "</div>"
      ],
      "text/plain": [
       "               GP          GF          GA          CF          CA         CF%\n",
       "count  111.000000  111.000000  111.000000  111.000000  111.000000  111.000000\n",
       "mean    56.000000    3.693694    2.891892   49.855856   45.909910   52.117117\n",
       "std     32.186954    1.877100    1.691429    9.589622    9.749172    7.629201\n",
       "min      1.000000    0.000000    0.000000   27.000000   18.000000   36.400000\n",
       "25%     28.500000    2.000000    2.000000   44.000000   38.000000   47.050000\n",
       "50%     56.000000    4.000000    3.000000   49.000000   46.000000   52.500000\n",
       "75%     83.500000    5.000000    4.000000   56.000000   52.000000   57.450000\n",
       "max    111.000000    8.000000    7.000000   76.000000   70.000000   74.300000"
      ]
     },
     "execution_count": 210,
     "metadata": {},
     "output_type": "execute_result"
    }
   ],
   "source": [
    "df.describe()"
   ]
  },
  {
   "cell_type": "markdown",
   "metadata": {},
   "source": [
    "From the above table, I can see the following :\n",
    "1. GF : the standard deviation is 1.8771, the mean is 3.693694, the min is 0.00 and the max is 8.0.\n",
    "2. GA : the standard deviation is 1.691429, the mean is 2.891892, the min is 0.00 and the max is 7.0.\n",
    "3. CF% : the standard deviation is 7.629201, the mean is 52.117117, the min is 36.40 and the max is 74.30."
   ]
  },
  {
   "cell_type": "markdown",
   "metadata": {},
   "source": [
    "Now that I have the standard deviations, means, mins and maxs for our GF, GA and CF variables, I need to find the probabilities for just the GF and GA elements. This allows me to keep the data random but help shape the distribution to a to a normal distribution. The CF seems to be arbitrary and thus I will leave it as a total random number (more on that below)."
   ]
  },
  {
   "cell_type": "markdown",
   "metadata": {},
   "source": [
    "To find the probabilities on the individual elements in the data set, I will use the value_counts() function."
   ]
  },
  {
   "cell_type": "code",
   "execution_count": 211,
   "metadata": {},
   "outputs": [],
   "source": [
    "### we need to set normalize to True. This allows the frequencies to be returned. The sort.index() function puts the \n",
    "### information in order of index. The * 100 justs puts the results in percentage."
   ]
  },
  {
   "cell_type": "code",
   "execution_count": 212,
   "metadata": {},
   "outputs": [
    {
     "data": {
      "text/plain": [
       "0     0.900901\n",
       "1    15.315315\n",
       "2    12.612613\n",
       "3    15.315315\n",
       "4    22.522523\n",
       "5    18.918919\n",
       "6     5.405405\n",
       "7     6.306306\n",
       "8     2.702703\n",
       "Name: GF, dtype: float64"
      ]
     },
     "execution_count": 212,
     "metadata": {},
     "output_type": "execute_result"
    }
   ],
   "source": [
    "df['GF'].value_counts(normalize=True).sort_index() * 100"
   ]
  },
  {
   "cell_type": "code",
   "execution_count": 213,
   "metadata": {},
   "outputs": [],
   "source": [
    "GoalsFor_arr = [0,1,2,3,4,5,6,7,8]"
   ]
  },
  {
   "cell_type": "markdown",
   "metadata": {},
   "source": [
    "From the above, I can see the percentages I need to apply to each of the elements in the GF data set. Note: I rounded index 0, which represents 0 goals as 1.0. The other elements were rounded to second decimal."
   ]
  },
  {
   "cell_type": "code",
   "execution_count": 214,
   "metadata": {},
   "outputs": [],
   "source": [
    "### The random.choice() function for the GF data set."
   ]
  },
  {
   "cell_type": "code",
   "execution_count": 215,
   "metadata": {},
   "outputs": [],
   "source": [
    "GF = np.random.choice(GoalsFor_arr, 100, p=[0.010, 0.153, 0.126, 0.153, 0.225, 0.189, 0.054, 0.063, 0.027])"
   ]
  },
  {
   "cell_type": "markdown",
   "metadata": {},
   "source": [
    "#### Goals Against (GA) variable"
   ]
  },
  {
   "cell_type": "markdown",
   "metadata": {},
   "source": [
    "We'll use the same technique used on the GF data, on the GA data set. "
   ]
  },
  {
   "cell_type": "code",
   "execution_count": 216,
   "metadata": {},
   "outputs": [
    {
     "data": {
      "text/plain": [
       "0     8.108108\n",
       "1    13.513514\n",
       "2    21.621622\n",
       "3    21.621622\n",
       "4    16.216216\n",
       "5    12.612613\n",
       "6     4.504505\n",
       "7     1.801802\n",
       "Name: GA, dtype: float64"
      ]
     },
     "execution_count": 216,
     "metadata": {},
     "output_type": "execute_result"
    }
   ],
   "source": [
    "df['GA'].value_counts(normalize=True).sort_index() * 100"
   ]
  },
  {
   "cell_type": "code",
   "execution_count": 217,
   "metadata": {},
   "outputs": [],
   "source": [
    "GoalsAgainst_arr = [0,1,2,3,4,5,6,7]"
   ]
  },
  {
   "cell_type": "markdown",
   "metadata": {},
   "source": [
    "From the above, I can see the percentages I need to apply to each of the elements in the GA data set. Note: I changed index 7, which represents 7 goals as 1.9. This was done because all the elements' probabilities must equal 1.00. The other elements were rounded to the second decimal."
   ]
  },
  {
   "cell_type": "code",
   "execution_count": 218,
   "metadata": {},
   "outputs": [],
   "source": [
    "### The random.choice() function for the GA data set."
   ]
  },
  {
   "cell_type": "code",
   "execution_count": 219,
   "metadata": {},
   "outputs": [],
   "source": [
    "GA = np.random.choice(GoalsAgainst_arr, 100, p=[0.081, 0.135, 0.216, 0.216, 0.162, 0.126, 0.045, 0.019])"
   ]
  },
  {
   "cell_type": "markdown",
   "metadata": {},
   "source": [
    "#### Corsi % (CF) Variable"
   ]
  },
  {
   "cell_type": "raw",
   "metadata": {},
   "source": [
    "I used the random.normal() function for the CF because it allows me to set the mean and standard deviation, set the number of size of data and it gives me a normal distribution."
   ]
  },
  {
   "cell_type": "code",
   "execution_count": 220,
   "metadata": {},
   "outputs": [],
   "source": [
    "### the random.normal() function allows for the use of the mean, standard deviation and size. These numbers were obtained\n",
    "### from the above descriptive statistics and plugged into the function. "
   ]
  },
  {
   "cell_type": "code",
   "execution_count": 221,
   "metadata": {},
   "outputs": [],
   "source": [
    "CF = np.random.normal(52.117117,7.629201,100)"
   ]
  },
  {
   "cell_type": "markdown",
   "metadata": {},
   "source": [
    "#### Random Data Set"
   ]
  },
  {
   "cell_type": "code",
   "execution_count": 222,
   "metadata": {},
   "outputs": [],
   "source": [
    "### I will now create the random data set by combing all the individual data sets. I define the random data set as 'mydf'."
   ]
  },
  {
   "cell_type": "code",
   "execution_count": 223,
   "metadata": {},
   "outputs": [],
   "source": [
    "mydf = {\"WL\":WL, \"GF\":GF, \"GA\":GA, \"CF\":CF}"
   ]
  },
  {
   "cell_type": "code",
   "execution_count": 224,
   "metadata": {},
   "outputs": [],
   "source": [
    "### I will now get the output of the random data set my just entering mydf."
   ]
  },
  {
   "cell_type": "code",
   "execution_count": 225,
   "metadata": {},
   "outputs": [
    {
     "data": {
      "text/plain": [
       "{'WL': array(['Win', 'Loss', 'Win', 'Loss', 'Win', 'Win', 'Win', 'Win', 'Win',\n",
       "        'Loss', 'Win', 'Win', 'Loss', 'Win', 'Win', 'Loss', 'Win', 'Loss',\n",
       "        'Loss', 'Loss', 'Loss', 'Loss', 'Win', 'Loss', 'Win', 'Win', 'Win',\n",
       "        'Win', 'Loss', 'Win', 'Win', 'Loss', 'Loss', 'Win', 'Loss', 'Loss',\n",
       "        'Win', 'Win', 'Win', 'Loss', 'Win', 'Win', 'Loss', 'Win', 'Loss',\n",
       "        'Loss', 'Loss', 'Win', 'Loss', 'Win', 'Win', 'Loss', 'Loss',\n",
       "        'Loss', 'Win', 'Win', 'Loss', 'Win', 'Win', 'Win', 'Loss', 'Loss',\n",
       "        'Win', 'Loss', 'Win', 'Win', 'Win', 'Win', 'Loss', 'Win', 'Win',\n",
       "        'Win', 'Win', 'Win', 'Loss', 'Win', 'Win', 'Loss', 'Loss', 'Win',\n",
       "        'Win', 'Win', 'Win', 'Win', 'Loss', 'Loss', 'Loss', 'Win', 'Win',\n",
       "        'Win', 'Loss', 'Win', 'Loss', 'Loss', 'Win', 'Win', 'Loss', 'Win',\n",
       "        'Win', 'Loss'], dtype='<U4'),\n",
       " 'GF': array([4, 1, 5, 5, 4, 7, 1, 3, 2, 4, 3, 6, 4, 4, 2, 5, 5, 5, 3, 1, 5, 3,\n",
       "        4, 5, 5, 5, 5, 4, 4, 7, 3, 3, 5, 1, 6, 1, 3, 1, 4, 5, 3, 5, 4, 3,\n",
       "        3, 5, 4, 1, 5, 3, 7, 3, 4, 1, 7, 4, 4, 3, 0, 5, 5, 5, 5, 4, 3, 1,\n",
       "        1, 4, 4, 5, 3, 4, 5, 1, 1, 2, 8, 4, 4, 5, 7, 5, 7, 5, 4, 1, 4, 5,\n",
       "        1, 1, 5, 2, 5, 1, 4, 3, 2, 6, 4, 4]),\n",
       " 'GA': array([3, 2, 2, 2, 3, 3, 3, 3, 4, 3, 5, 6, 5, 4, 3, 1, 6, 4, 6, 5, 4, 1,\n",
       "        2, 3, 4, 6, 2, 1, 3, 2, 2, 3, 2, 3, 5, 3, 0, 0, 4, 6, 3, 1, 2, 3,\n",
       "        7, 4, 0, 0, 5, 3, 0, 2, 7, 1, 5, 3, 0, 5, 4, 0, 2, 4, 0, 4, 5, 1,\n",
       "        3, 2, 0, 2, 1, 3, 2, 1, 1, 6, 4, 4, 1, 3, 3, 1, 6, 5, 4, 2, 1, 2,\n",
       "        1, 0, 2, 5, 5, 4, 2, 1, 2, 2, 2, 2]),\n",
       " 'CF': array([63.40590876, 59.07951903, 46.70489208, 49.60173936, 47.77559209,\n",
       "        63.12786485, 50.60724654, 46.76953473, 45.64403274, 46.75828727,\n",
       "        63.18801741, 56.31248591, 51.94476537, 66.80519197, 53.74677918,\n",
       "        43.68638634, 54.28388618, 56.2156197 , 50.02432949, 63.46592411,\n",
       "        62.4210294 , 45.24807222, 45.90017141, 36.88775695, 52.04913605,\n",
       "        63.87394173, 59.62453896, 58.60108243, 38.32146083, 59.33502635,\n",
       "        54.76120807, 54.75003528, 58.01778913, 58.26256696, 52.1989468 ,\n",
       "        43.0514449 , 54.96523356, 54.25389067, 63.90134313, 35.08465153,\n",
       "        35.79983871, 59.31766227, 45.84593156, 52.31038878, 52.6881246 ,\n",
       "        55.67174082, 49.46275017, 54.63507999, 54.0393667 , 43.30437287,\n",
       "        54.6346095 , 57.75125116, 53.89770004, 52.77839406, 49.4110549 ,\n",
       "        58.85392165, 49.35690131, 45.71289701, 27.11528578, 52.66080806,\n",
       "        53.61808792, 48.75884493, 55.59682894, 52.29403025, 47.79001125,\n",
       "        47.2789903 , 50.79643059, 56.61669722, 47.97064075, 40.92366925,\n",
       "        59.96148874, 36.50320644, 60.12244376, 44.81590858, 51.77267274,\n",
       "        47.49970525, 31.51485194, 60.84389977, 46.31389647, 54.01267929,\n",
       "        50.898008  , 51.74176332, 52.23463952, 54.75223619, 48.93682573,\n",
       "        57.03371733, 42.89626324, 46.38094905, 53.15905025, 48.29369991,\n",
       "        71.35735237, 45.86609904, 52.39402129, 52.53354692, 47.53461899,\n",
       "        59.98394958, 53.76540493, 46.4386897 , 35.29539582, 51.47163129])}"
      ]
     },
     "execution_count": 225,
     "metadata": {},
     "output_type": "execute_result"
    }
   ],
   "source": [
    "mydf"
   ]
  },
  {
   "cell_type": "markdown",
   "metadata": {},
   "source": [
    "## Testing My Random Data Set\n",
    "***"
   ]
  },
  {
   "cell_type": "markdown",
   "metadata": {},
   "source": [
    "To test my random data set, I will need to compare it to the real data set. To do this, I will need to do two things :\n",
    "1. plot histograms of the individual data sets and compare them to the real data set.\n",
    "2. run the descriptive statistics on the random data set and see how they compare to the real data set statistics."
   ]
  },
  {
   "cell_type": "code",
   "execution_count": 226,
   "metadata": {},
   "outputs": [],
   "source": [
    "### Since describe is a Pandas function, I will need to create a data frame in order to run the histograms and \n",
    "### describe() function.\n",
    "### I use mydf as my data set and set the columns to represent my four variables."
   ]
  },
  {
   "cell_type": "code",
   "execution_count": 227,
   "metadata": {},
   "outputs": [],
   "source": [
    "df3=pd.DataFrame(mydf, columns=[\"WL\", \"GF\", \"GA\", \"CF\"])"
   ]
  },
  {
   "cell_type": "markdown",
   "metadata": {},
   "source": [
    "First I will plot histograms of the GF, GA and CF data sets to see if the distributions match the real data set."
   ]
  },
  {
   "cell_type": "markdown",
   "metadata": {},
   "source": [
    "#### Random Data Goals For (GF) Histogram"
   ]
  },
  {
   "cell_type": "code",
   "execution_count": 228,
   "metadata": {},
   "outputs": [
    {
     "name": "stderr",
     "output_type": "stream",
     "text": [
      "C:\\Users\\patri\\Anaconda3\\lib\\site-packages\\matplotlib\\axes\\_axes.py:6462: UserWarning: The 'normed' kwarg is deprecated, and has been replaced by the 'density' kwarg.\n",
      "  warnings.warn(\"The 'normed' kwarg is deprecated, and has been \"\n"
     ]
    },
    {
     "data": {
      "text/plain": [
       "<matplotlib.axes._subplots.AxesSubplot at 0x2692c5a7eb8>"
      ]
     },
     "execution_count": 228,
     "metadata": {},
     "output_type": "execute_result"
    },
    {
     "data": {
      "image/png": "[encoded data removed]",
      "text/plain": [
       "<Figure size 432x288 with 1 Axes>"
      ]
     },
     "metadata": {},
     "output_type": "display_data"
    }
   ],
   "source": [
    "sns.distplot(df3[\"GF\"])"
   ]
  },
  {
   "cell_type": "markdown",
   "metadata": {},
   "source": [
    "Good result. Looks very similar to the real GF data set."
   ]
  },
  {
   "cell_type": "markdown",
   "metadata": {},
   "source": [
    "#### Random Data Goals Against (GA) Histogram"
   ]
  },
  {
   "cell_type": "code",
   "execution_count": 229,
   "metadata": {},
   "outputs": [
    {
     "name": "stderr",
     "output_type": "stream",
     "text": [
      "C:\\Users\\patri\\Anaconda3\\lib\\site-packages\\matplotlib\\axes\\_axes.py:6462: UserWarning: The 'normed' kwarg is deprecated, and has been replaced by the 'density' kwarg.\n",
      "  warnings.warn(\"The 'normed' kwarg is deprecated, and has been \"\n"
     ]
    },
    {
     "data": {
      "text/plain": [
       "<matplotlib.axes._subplots.AxesSubplot at 0x2692d83d940>"
      ]
     },
     "execution_count": 229,
     "metadata": {},
     "output_type": "execute_result"
    },
    {
     "data": {
      "image/png": "[encoded data removed]",
      "text/plain": [
       "<Figure size 432x288 with 1 Axes>"
      ]
     },
     "metadata": {},
     "output_type": "display_data"
    }
   ],
   "source": [
    "sns.distplot(df3[\"GA\"])"
   ]
  },
  {
   "cell_type": "markdown",
   "metadata": {},
   "source": [
    "It looks good, it's not a perfect match but still shows the normal distribution qualities."
   ]
  },
  {
   "cell_type": "markdown",
   "metadata": {},
   "source": [
    "#### Random Data Corsi (CF) Histogram"
   ]
  },
  {
   "cell_type": "code",
   "execution_count": 230,
   "metadata": {},
   "outputs": [
    {
     "name": "stderr",
     "output_type": "stream",
     "text": [
      "C:\\Users\\patri\\Anaconda3\\lib\\site-packages\\matplotlib\\axes\\_axes.py:6462: UserWarning: The 'normed' kwarg is deprecated, and has been replaced by the 'density' kwarg.\n",
      "  warnings.warn(\"The 'normed' kwarg is deprecated, and has been \"\n"
     ]
    },
    {
     "data": {
      "text/plain": [
       "<matplotlib.axes._subplots.AxesSubplot at 0x2692d8e4400>"
      ]
     },
     "execution_count": 230,
     "metadata": {},
     "output_type": "execute_result"
    },
    {
     "data": {
      "image/png": "[encoded data removed]",
      "text/plain": [
       "<Figure size 432x288 with 1 Axes>"
      ]
     },
     "metadata": {},
     "output_type": "display_data"
    }
   ],
   "source": [
    "sns.distplot(df3[\"CF\"])"
   ]
  },
  {
   "cell_type": "markdown",
   "metadata": {},
   "source": [
    "Once again, it looks very good."
   ]
  },
  {
   "cell_type": "markdown",
   "metadata": {},
   "source": [
    "#### Descriptive Statistics"
   ]
  },
  {
   "cell_type": "markdown",
   "metadata": {},
   "source": [
    "I will now run the describe() functions to see if my random data set matches or is close to the real data set."
   ]
  },
  {
   "cell_type": "code",
   "execution_count": 231,
   "metadata": {},
   "outputs": [
    {
     "data": {
      "text/html": [
       "<div>\n",
       "<style scoped>\n",
       "    .dataframe tbody tr th:only-of-type {\n",
       "        vertical-align: middle;\n",
       "    }\n",
       "\n",
       "    .dataframe tbody tr th {\n",
       "        vertical-align: top;\n",
       "    }\n",
       "\n",
       "    .dataframe thead th {\n",
       "        text-align: right;\n",
       "    }\n",
       "</style>\n",
       "<table border=\"1\" class=\"dataframe\">\n",
       "  <thead>\n",
       "    <tr style=\"text-align: right;\">\n",
       "      <th></th>\n",
       "      <th>WL</th>\n",
       "    </tr>\n",
       "  </thead>\n",
       "  <tbody>\n",
       "    <tr>\n",
       "      <th>count</th>\n",
       "      <td>100</td>\n",
       "    </tr>\n",
       "    <tr>\n",
       "      <th>unique</th>\n",
       "      <td>2</td>\n",
       "    </tr>\n",
       "    <tr>\n",
       "      <th>top</th>\n",
       "      <td>Win</td>\n",
       "    </tr>\n",
       "    <tr>\n",
       "      <th>freq</th>\n",
       "      <td>59</td>\n",
       "    </tr>\n",
       "  </tbody>\n",
       "</table>\n",
       "</div>"
      ],
      "text/plain": [
       "         WL\n",
       "count   100\n",
       "unique    2\n",
       "top     Win\n",
       "freq     59"
      ]
     },
     "execution_count": 231,
     "metadata": {},
     "output_type": "execute_result"
    }
   ],
   "source": [
    "df3.describe(include=[np.object])"
   ]
  },
  {
   "cell_type": "markdown",
   "metadata": {},
   "source": [
    "Looks good. I looking for a frequency of approximately 67 and we generated 65."
   ]
  },
  {
   "cell_type": "code",
   "execution_count": 232,
   "metadata": {},
   "outputs": [
    {
     "data": {
      "text/html": [
       "<div>\n",
       "<style scoped>\n",
       "    .dataframe tbody tr th:only-of-type {\n",
       "        vertical-align: middle;\n",
       "    }\n",
       "\n",
       "    .dataframe tbody tr th {\n",
       "        vertical-align: top;\n",
       "    }\n",
       "\n",
       "    .dataframe thead th {\n",
       "        text-align: right;\n",
       "    }\n",
       "</style>\n",
       "<table border=\"1\" class=\"dataframe\">\n",
       "  <thead>\n",
       "    <tr style=\"text-align: right;\">\n",
       "      <th></th>\n",
       "      <th>GF</th>\n",
       "      <th>GA</th>\n",
       "      <th>CF</th>\n",
       "    </tr>\n",
       "  </thead>\n",
       "  <tbody>\n",
       "    <tr>\n",
       "      <th>count</th>\n",
       "      <td>100.000000</td>\n",
       "      <td>100.000000</td>\n",
       "      <td>100.000000</td>\n",
       "    </tr>\n",
       "    <tr>\n",
       "      <th>mean</th>\n",
       "      <td>3.770000</td>\n",
       "      <td>2.850000</td>\n",
       "      <td>51.538783</td>\n",
       "    </tr>\n",
       "    <tr>\n",
       "      <th>std</th>\n",
       "      <td>1.739935</td>\n",
       "      <td>1.794351</td>\n",
       "      <td>7.754112</td>\n",
       "    </tr>\n",
       "    <tr>\n",
       "      <th>min</th>\n",
       "      <td>0.000000</td>\n",
       "      <td>0.000000</td>\n",
       "      <td>27.115286</td>\n",
       "    </tr>\n",
       "    <tr>\n",
       "      <th>25%</th>\n",
       "      <td>3.000000</td>\n",
       "      <td>2.000000</td>\n",
       "      <td>46.766723</td>\n",
       "    </tr>\n",
       "    <tr>\n",
       "      <th>50%</th>\n",
       "      <td>4.000000</td>\n",
       "      <td>3.000000</td>\n",
       "      <td>52.264335</td>\n",
       "    </tr>\n",
       "    <tr>\n",
       "      <th>75%</th>\n",
       "      <td>5.000000</td>\n",
       "      <td>4.000000</td>\n",
       "      <td>56.239836</td>\n",
       "    </tr>\n",
       "    <tr>\n",
       "      <th>max</th>\n",
       "      <td>8.000000</td>\n",
       "      <td>7.000000</td>\n",
       "      <td>71.357352</td>\n",
       "    </tr>\n",
       "  </tbody>\n",
       "</table>\n",
       "</div>"
      ],
      "text/plain": [
       "               GF          GA          CF\n",
       "count  100.000000  100.000000  100.000000\n",
       "mean     3.770000    2.850000   51.538783\n",
       "std      1.739935    1.794351    7.754112\n",
       "min      0.000000    0.000000   27.115286\n",
       "25%      3.000000    2.000000   46.766723\n",
       "50%      4.000000    3.000000   52.264335\n",
       "75%      5.000000    4.000000   56.239836\n",
       "max      8.000000    7.000000   71.357352"
      ]
     },
     "execution_count": 232,
     "metadata": {},
     "output_type": "execute_result"
    }
   ],
   "source": [
    "df3.describe()"
   ]
  },
  {
   "cell_type": "code",
   "execution_count": 233,
   "metadata": {},
   "outputs": [],
   "source": [
    "### create a simple data frame to compare the important statistics"
   ]
  },
  {
   "cell_type": "code",
   "execution_count": 234,
   "metadata": {},
   "outputs": [
    {
     "data": {
      "text/html": [
       "<div>\n",
       "<style scoped>\n",
       "    .dataframe tbody tr th:only-of-type {\n",
       "        vertical-align: middle;\n",
       "    }\n",
       "\n",
       "    .dataframe tbody tr th {\n",
       "        vertical-align: top;\n",
       "    }\n",
       "\n",
       "    .dataframe thead th {\n",
       "        text-align: right;\n",
       "    }\n",
       "</style>\n",
       "<table border=\"1\" class=\"dataframe\">\n",
       "  <thead>\n",
       "    <tr style=\"text-align: right;\">\n",
       "      <th></th>\n",
       "      <th>Stat</th>\n",
       "      <th>GF Rand</th>\n",
       "      <th>GF Real</th>\n",
       "      <th>GA Rand</th>\n",
       "      <th>GA Real</th>\n",
       "      <th>CF Rand</th>\n",
       "      <th>CF Real</th>\n",
       "    </tr>\n",
       "  </thead>\n",
       "  <tbody>\n",
       "    <tr>\n",
       "      <th>0</th>\n",
       "      <td>mean</td>\n",
       "      <td>3.890000</td>\n",
       "      <td>3.693694</td>\n",
       "      <td>2.620000</td>\n",
       "      <td>2.891892</td>\n",
       "      <td>52.662782</td>\n",
       "      <td>52.117117</td>\n",
       "    </tr>\n",
       "    <tr>\n",
       "      <th>1</th>\n",
       "      <td>std</td>\n",
       "      <td>1.885056</td>\n",
       "      <td>1.877100</td>\n",
       "      <td>1.637811</td>\n",
       "      <td>1.691429</td>\n",
       "      <td>6.791164</td>\n",
       "      <td>7.629201</td>\n",
       "    </tr>\n",
       "    <tr>\n",
       "      <th>2</th>\n",
       "      <td>min</td>\n",
       "      <td>0.000000</td>\n",
       "      <td>0.000000</td>\n",
       "      <td>0.000000</td>\n",
       "      <td>0.000000</td>\n",
       "      <td>38.554903</td>\n",
       "      <td>36.400000</td>\n",
       "    </tr>\n",
       "    <tr>\n",
       "      <th>3</th>\n",
       "      <td>max</td>\n",
       "      <td>8.000000</td>\n",
       "      <td>8.000000</td>\n",
       "      <td>7.000000</td>\n",
       "      <td>7.000000</td>\n",
       "      <td>70.394772</td>\n",
       "      <td>74.300000</td>\n",
       "    </tr>\n",
       "  </tbody>\n",
       "</table>\n",
       "</div>"
      ],
      "text/plain": [
       "   Stat   GF Rand   GF Real   GA Rand   GA Real    CF Rand    CF Real\n",
       "0  mean  3.890000  3.693694  2.620000  2.891892  52.662782  52.117117\n",
       "1   std  1.885056  1.877100  1.637811  1.691429   6.791164   7.629201\n",
       "2   min  0.000000  0.000000  0.000000  0.000000  38.554903  36.400000\n",
       "3   max  8.000000  8.000000  7.000000  7.000000  70.394772  74.300000"
      ]
     },
     "execution_count": 234,
     "metadata": {},
     "output_type": "execute_result"
    }
   ],
   "source": [
    "pd.DataFrame({'Stat':[\"mean\",\"std\",\"min\",\"max\"],'GF Rand':[3.89,1.885056,0.00,8.0],'GF Real':[3.693694,1.8771,0.00,8.0],'GA Rand':[2.62,1.637811,0.00,7.0],'GA Real':[2.891892,1.691429,0.00,7.0],'CF Rand':[52.662782,6.791164,38.554903,70.394772], 'CF Real':[52.117117,7.629201,36.40,74.30]})"
   ]
  },
  {
   "cell_type": "markdown",
   "metadata": {},
   "source": [
    "#### Random Data Set Conclusion"
   ]
  },
  {
   "cell_type": "markdown",
   "metadata": {},
   "source": [
    "The random data set did well as far as closely resembling the real data set. I am confident in using this to see how the variables relate to winning. "
   ]
  },
  {
   "cell_type": "markdown",
   "metadata": {},
   "source": [
    "### Important Note :"
   ]
  },
  {
   "cell_type": "markdown",
   "metadata": {},
   "source": [
    "The above statistic comparison table was generated on my first run of the data and 'hard copied' in order to make the conclusions of the random data set. Since it is a random data set, it is randomly generated and thus when it's run the next time, the numbers in the table above for the GF Rand, GA Rand and CF Rand columns will be different. So keep in mind that you must compare the new random numbers to the real numbers."
   ]
  },
  {
   "cell_type": "markdown",
   "metadata": {},
   "source": [
    "## How do the Variables Relate"
   ]
  },
  {
   "cell_type": "markdown",
   "metadata": {},
   "source": [
    "I wanted to look at this particular data set to see if I could tell if a team was more likely to win if they had attained certain levels in certain variables. ie if a team scores more than 3 goals, what are their chances of winning? <br>\n",
    "At first glance, Goals For and Goals Against seem obvious. If a team scores more goals than they allow, they are going to win. This seems to make them directly related to the probability of a team winning or not. <br>\n",
    "The NHL has a statistic that measures Goals For vs. Goals Against, and the name is simply Goal Differential (Diff).\n",
    "To see how scoring more Goals For vs Goals Against relates to winning, we just need to look at last years final standings and statistics. (14). Every single team that made the playoffs (16 teams out of 31 total teams) had more Goals For than Goals Against. There were 12 teams in the league that had more Goals Against vs Goals For and they all failed to make the playoffs. So there is good evidence that when a team does score more goals than they allow, their chances of winning are greater. Goals For and Goals Against can be attributed to different things such as if a team has a great offense who have great puck possession, little turnovers and high shooting percentage, then their chances of scoring more increases. Inversely, if you have a great defense who don't spend alot of time in their own end and have an outstanding goalie who has a low goals against average, then their chances of winning increase.(15) <br>\n",
    "How are Goals For and Goals Against related. As in the example above regarding teams making the playoffs, if a team scores more than they allow, their chances of winning increases. However, a team can't just be one sided. If a team has a great offense but terrible defense and or goal tending, they might score lots of goals but that doesn't gaurantee winning. Evidence of this is last year's New York Islanders team of the NHL Eastern Conference. They scored 264 goals all year but did not make the playoffs. There were 8 teams that made the Eastern Conference playoffs last year and the Islanders had more Goals For than four of those 8 playoff teams. On the other side of this is the Columbus Blue Jackets also in the Eastern Conference. They only had 242 Goals For, the lowest of the 8 Eastern Conference playoff teams, however, they only allowed 230 Goals Against, which was second best in the entire 16 team Eastern Conference. <br>\n",
    "Goals For and Goals against are related to winning but how a team is structured to score goals and how they are structured to defend against goals is varied. If a team can find the right structure, their chances of winning are greatly increased. An example is the Tampa Bay Lightning. Last year they had the most wins in the entire league. They also had the most goals in the entire league and they were fifth in the Eastern Conference in Goals Against. <br>\n",
    "Corsi% was a variable that interested me the most because I thought it was a variable that gave a deatiled look at two different statistics in one number, shots taken and puck possession. The Corsi% is the total shots taken, which includes shots on goal, shots missed and shots blocked, divided by total shots taken plus the total shots given up. (CF% = CF/(CF + CA). There are two things that make Corsi % so valuable: it is highly repeatable (ie. if you know a team’s Corsi in one part of the season, you can predict its Corsi in their remaining games very well) and it is better than goals at predicting future goals (ie. if you know a team’s Corsi and its goal differential, you can get a more accurate prediction of the team’s future goal differential by using Corsi). (16)The Corsi For shows how many shots a team had on goal which some suggest is good evidence of puck possession. (17) Puck possession is a good indicator of how much time a team spends in the offensive zone. (18) But how does that relate to winning? <br>\n",
    "Well, to my surprise, it appears that the Corsi % is not a good indicator of winning games. Based on a study done by @pettigrew_stats on rinkstats.com. The study states \"The point of this post is to convince you that Corsi and Fenwick (another advanced statistc) don’t do a particularly good job of predicting who will win hockey games, and they aren’t any better at this task than the traditional shots-on-goal statistic.\" (19) In a previous article, the author states that Fenwick and Corsi are not very good at predicting who wins hockey games in the NHL. (20). It also states that Corsi is no better than a simple shots on goal (SOG) statistic. <br>\n",
    "The research seems to back up the fact that Corsi% is not a very good indicator in predicting how successful a team is at winning. Looking at last years team Corsi% numbers is very revealing. The team with the highest Corsi% of 54.6% was the Carolina Hurricanes who failed to make the playoffs. Their goal differential was a minus 28 coincidently. In fact, 3 out of the 4 top Corsi% teams did not make the palyoffs last year. Besides Carolina, third and fourth on the list of highest Corsi% were the Calgary Flames (53.2%) and the Chicago Blackhawks (52.6%). (21) <br>\n",
    "I was disappointed but surprised at the same time regarding the Corsi% statistic. I thought I cam across a great variable that would lead to great insights of how to win in the NHL but in was not meant to be. \n",
    "\n",
    "In the end, the project did give me insight into what the Rangers need to do to be a winning team in the NHL. Just by looking at the Goals For and Goals Against leads me to beleive that teams that can create positive Goal Differential are the teams that win the most and make the playoffs. Now, how teams go about doing this is varied. Some have great offense, some have great defence, and some have outstanding goaltending. To be really successful though, like the Tampa Bay Lightning, a team needs to be good at both Goals For and Goals Against to be be consistently successful in the NHL.\n"
   ]
  },
  {
   "cell_type": "markdown",
   "metadata": {},
   "source": [
    "## References\n",
    "***\n",
    "1. https://thehockeywriters.com/traditional-statistics-vs-advanced-analytics/\n",
    "2. https://thehockeywriters.com/traditional-statistics-vs-advanced-analytics/\n",
    "3. https://www.nhl.com/lightning/news/statistical-analysis-helps-lightning-organization-navigate-free-agency/c-636255\n",
    "4. https://www.tampabay.com/blogs/lightning/2018/04/23/the-key-to-the-lightnings-success/\n",
    "5. https://thehockeywriters.com/traditional-statistics-vs-advanced-analytics/\n",
    "6. http://article.sapub.org/10.5923.j.sports.20140403.02.html\n",
    "7. http://article.sapub.org/10.5923.j.sports.20140403.02.html\n",
    "8. https://en.wikipedia.org/wiki/Corsi_(statistic)\n",
    "9. https://seaborn.pydata.org/generated/seaborn.distplot.html \n",
    "10. https://github.com/mwaskom/seaborn/issues/1392\n",
    "11. https://het.as.utexas.edu/HET/Software/Numpy/reference/generated/numpy.random.choice.html\n",
    "12. https://pandas.pydata.org/pandas-docs/stable/generated/pandas.DataFrame.describe.html\n",
    "13. https://pandas.pydata.org/pandas-docs/stable/generated/pandas.Series.value_counts.html\n",
    "14. https://www.nhl.com/standings/2017/wildcard\n",
    "15. https://howlinhockey.com/2011/12/24/goal-differential-why-it-matters-and-what-it-means/\n",
    "16. https://mapleleafsnation.com/2018/03/12/are-scoring-chances-better-than-corsi/ \n",
    "17. https://www.diebytheblade.com/2018/8/19/17749744/nhl-key-stats-to-success-and-how-the-buffalo-sabres-compare\n",
    "18. https://en.wikipedia.org/wiki/Corsi_(statistic)\n",
    "19. http://rinkstats.com/2014/05/corsi-and-fenwick-suck-or-why-we-should\n",
    "20. http://rinkstats.com/2013/12/why-popular-advanced-stats-are-bad-at\n",
    "21. https://www.hockey-reference.com/play-index/tpbp_finder.cgi?request=1&match=single&year_min=2018&year_max=2018&situation_id=ev&order_by=corsi_for&utm_source=direct&utm_medium=Share&utm_campaign=ShareTool#stats"
   ]
  }
 ],
 "metadata": {
  "kernelspec": {
   "display_name": "Python 3",
   "language": "python",
   "name": "python3"
  },
  "language_info": {
   "codemirror_mode": {
    "name": "ipython",
    "version": 3
   },
   "file_extension": ".py",
   "mimetype": "text/x-python",
   "name": "python",
   "nbconvert_exporter": "python",
   "pygments_lexer": "ipython3",
   "version": "3.6.5"
  }
 },
 "nbformat": 4,
 "nbformat_minor": 2
}
